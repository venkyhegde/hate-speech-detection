{
 "cells": [
  {
   "cell_type": "markdown",
   "metadata": {},
   "source": [
    "Importing all the required Libraries"
   ]
  },
  {
   "cell_type": "code",
   "execution_count": 1,
   "metadata": {
    "ExecuteTime": {
     "end_time": "2018-11-25T03:41:11.016664Z",
     "start_time": "2018-11-25T03:41:06.954315Z"
    }
   },
   "outputs": [],
   "source": [
    "import nltk\n",
    "from nltk.corpus import stopwords\n",
    "import numpy as np\n",
    "import pandas as pd\n",
    "from sklearn.feature_extraction.text import TfidfVectorizer\n",
    "from sklearn.linear_model import LogisticRegression\n",
    "from sklearn.naive_bayes import MultinomialNB\n",
    "from sklearn.base import BaseEstimator, ClassifierMixin\n",
    "from sklearn.utils.validation import check_X_y, check_is_fitted\n",
    "from sklearn.model_selection import cross_val_score\n",
    "from matplotlib import pyplot as plt\n",
    "import matplotlib\n",
    "from scipy.sparse import coo_matrix, hstack\n",
    "from scipy import sparse\n",
    "import warnings\n",
    "warnings.filterwarnings(\"ignore\", category=FutureWarning)\n",
    "%matplotlib inline"
   ]
  },
  {
   "cell_type": "markdown",
   "metadata": {},
   "source": [
    "### 1: Loading the train data and test data from csv files"
   ]
  },
  {
   "cell_type": "code",
   "execution_count": 2,
   "metadata": {
    "ExecuteTime": {
     "end_time": "2018-11-25T03:41:11.081677Z",
     "start_time": "2018-11-25T03:41:11.020249Z"
    }
   },
   "outputs": [],
   "source": [
    "# loading the data\n",
    "data_set = pd.read_csv('./data/other/tweeter-comments-csv.csv')"
   ]
  },
  {
   "cell_type": "code",
   "execution_count": 3,
   "metadata": {
    "ExecuteTime": {
     "end_time": "2018-11-25T03:41:11.164460Z",
     "start_time": "2018-11-25T03:41:11.085152Z"
    }
   },
   "outputs": [
    {
     "data": {
      "text/html": [
       "<div>\n",
       "<style scoped>\n",
       "    .dataframe tbody tr th:only-of-type {\n",
       "        vertical-align: middle;\n",
       "    }\n",
       "\n",
       "    .dataframe tbody tr th {\n",
       "        vertical-align: top;\n",
       "    }\n",
       "\n",
       "    .dataframe thead th {\n",
       "        text-align: right;\n",
       "    }\n",
       "</style>\n",
       "<table border=\"1\" class=\"dataframe\">\n",
       "  <thead>\n",
       "    <tr style=\"text-align: right;\">\n",
       "      <th></th>\n",
       "      <th>comment_text</th>\n",
       "      <th>hate_speech</th>\n",
       "      <th>offensive_language</th>\n",
       "      <th>neither</th>\n",
       "    </tr>\n",
       "  </thead>\n",
       "  <tbody>\n",
       "    <tr>\n",
       "      <th>0</th>\n",
       "      <td>!!! RT @mayasolovely: As a woman you shouldn't...</td>\n",
       "      <td>0</td>\n",
       "      <td>0</td>\n",
       "      <td>3</td>\n",
       "    </tr>\n",
       "    <tr>\n",
       "      <th>1</th>\n",
       "      <td>!!!!! RT @mleew17: boy dats cold...tyga dwn ba...</td>\n",
       "      <td>0</td>\n",
       "      <td>3</td>\n",
       "      <td>0</td>\n",
       "    </tr>\n",
       "    <tr>\n",
       "      <th>2</th>\n",
       "      <td>!!!!!!! RT @UrKindOfBrand Dawg!!!! RT @80sbaby...</td>\n",
       "      <td>0</td>\n",
       "      <td>3</td>\n",
       "      <td>0</td>\n",
       "    </tr>\n",
       "    <tr>\n",
       "      <th>3</th>\n",
       "      <td>!!!!!!!!! RT @C_G_Anderson: @viva_based she lo...</td>\n",
       "      <td>0</td>\n",
       "      <td>2</td>\n",
       "      <td>1</td>\n",
       "    </tr>\n",
       "    <tr>\n",
       "      <th>4</th>\n",
       "      <td>!!!!!!!!!!!!! RT @ShenikaRoberts: The shit you...</td>\n",
       "      <td>0</td>\n",
       "      <td>6</td>\n",
       "      <td>0</td>\n",
       "    </tr>\n",
       "  </tbody>\n",
       "</table>\n",
       "</div>"
      ],
      "text/plain": [
       "                                        comment_text  hate_speech  \\\n",
       "0  !!! RT @mayasolovely: As a woman you shouldn't...            0   \n",
       "1  !!!!! RT @mleew17: boy dats cold...tyga dwn ba...            0   \n",
       "2  !!!!!!! RT @UrKindOfBrand Dawg!!!! RT @80sbaby...            0   \n",
       "3  !!!!!!!!! RT @C_G_Anderson: @viva_based she lo...            0   \n",
       "4  !!!!!!!!!!!!! RT @ShenikaRoberts: The shit you...            0   \n",
       "\n",
       "   offensive_language  neither  \n",
       "0                   0        3  \n",
       "1                   3        0  \n",
       "2                   3        0  \n",
       "3                   2        1  \n",
       "4                   6        0  "
      ]
     },
     "execution_count": 3,
     "metadata": {},
     "output_type": "execute_result"
    }
   ],
   "source": [
    "data_set.head()"
   ]
  },
  {
   "cell_type": "markdown",
   "metadata": {},
   "source": [
    "Utility classes/functions to extract/prepare the data set"
   ]
  },
  {
   "cell_type": "code",
   "execution_count": 4,
   "metadata": {
    "ExecuteTime": {
     "end_time": "2018-11-25T03:41:11.181239Z",
     "start_time": "2018-11-25T03:41:11.168893Z"
    }
   },
   "outputs": [],
   "source": [
    "# PrepareData\n",
    "class PrepareData:\n",
    "    \"\"\"\n",
    "    Class to perpare the data for taraining, and testing \n",
    "    The class provide instance and static methods to prepare the data.\n",
    "\n",
    "    Args:\n",
    "    data_set : data set\n",
    "    \"\"\"\n",
    "\n",
    "    # get and initialize the dataset\n",
    "    def __init__(self, data_set):\n",
    "        self.data_set = data_set\n",
    "\n",
    "    def split_data(self, train_percent=.7, test_percent=.3, seed=None):\n",
    "        \"\"\" This method split the data into train data set and test data set\n",
    "        by default it splits the data as train_data = 70% and test_data = 30%\n",
    "\n",
    "        Args:\n",
    "        train_percent : percentage of train data, default value - 0.7\n",
    "                        default:0.7\n",
    "        test_pecent : percetage of test data, default value - 0.3\n",
    "                        default:0.3\n",
    "        seed : None optional\n",
    "\n",
    "        Returns:\n",
    "        train_data : tranin data\n",
    "        test_data : test data\n",
    "        \"\"\"\n",
    "\n",
    "        np.random.seed(seed=seed)\n",
    "        permuted_test = np.random.permutation(self.data_set.index)\n",
    "        total_len = len(data_set.index)\n",
    "        train_end = int(train_percent * total_len)\n",
    "        test_end = int(test_percent * total_len) + train_end\n",
    "        train_data = self.data_set.loc[permuted_test[:train_end]]\n",
    "        test_data = self.data_set.loc[permuted_test[train_end:test_end]]\n",
    "\n",
    "        return train_data, test_data\n",
    "\n",
    "    @staticmethod\n",
    "    def prepare_test_data(labels, data_set):\n",
    "        \"\"\"\n",
    "        Utility method to prepare the test data. \n",
    "        This method keeps the lables which are required for testing \n",
    "        by removing other lables from data frame\n",
    "\n",
    "        Args:\n",
    "        labels : list of expected lables in test data set\n",
    "        data_set : test data set\n",
    "\n",
    "        Returns:\n",
    "        data_set : processed dataset\n",
    "        \"\"\"\n",
    "\n",
    "        deleting_labels = [label for label in list(\n",
    "            data_set.columns) if label not in labels]\n",
    "        data_set = data_set.drop(deleting_labels, axis=1)\n",
    "        return data_set"
   ]
  },
  {
   "cell_type": "markdown",
   "metadata": {},
   "source": [
    "split the data set into train data and test data"
   ]
  },
  {
   "cell_type": "code",
   "execution_count": 5,
   "metadata": {
    "ExecuteTime": {
     "end_time": "2018-11-25T03:41:11.198080Z",
     "start_time": "2018-11-25T03:41:11.185074Z"
    }
   },
   "outputs": [],
   "source": [
    "prepare_data = PrepareData(data_set)\n",
    "train_data, test_data = prepare_data.split_data()"
   ]
  },
  {
   "cell_type": "markdown",
   "metadata": {},
   "source": [
    "Looking at the data set before pre processing."
   ]
  },
  {
   "cell_type": "code",
   "execution_count": 6,
   "metadata": {
    "ExecuteTime": {
     "end_time": "2018-11-25T03:41:11.207641Z",
     "start_time": "2018-11-25T03:41:11.200897Z"
    }
   },
   "outputs": [
    {
     "data": {
      "text/plain": [
       "(17348, 7434)"
      ]
     },
     "execution_count": 6,
     "metadata": {},
     "output_type": "execute_result"
    }
   ],
   "source": [
    "# size of traning and test data sets\n",
    "len(train_data), len(test_data)"
   ]
  },
  {
   "cell_type": "code",
   "execution_count": 7,
   "metadata": {
    "ExecuteTime": {
     "end_time": "2018-11-25T03:41:11.223339Z",
     "start_time": "2018-11-25T03:41:11.210913Z"
    }
   },
   "outputs": [
    {
     "data": {
      "text/html": [
       "<div>\n",
       "<style scoped>\n",
       "    .dataframe tbody tr th:only-of-type {\n",
       "        vertical-align: middle;\n",
       "    }\n",
       "\n",
       "    .dataframe tbody tr th {\n",
       "        vertical-align: top;\n",
       "    }\n",
       "\n",
       "    .dataframe thead th {\n",
       "        text-align: right;\n",
       "    }\n",
       "</style>\n",
       "<table border=\"1\" class=\"dataframe\">\n",
       "  <thead>\n",
       "    <tr style=\"text-align: right;\">\n",
       "      <th></th>\n",
       "      <th>comment_text</th>\n",
       "      <th>hate_speech</th>\n",
       "      <th>offensive_language</th>\n",
       "      <th>neither</th>\n",
       "    </tr>\n",
       "  </thead>\n",
       "  <tbody>\n",
       "    <tr>\n",
       "      <th>19653</th>\n",
       "      <td>!!! RT @mayasolovely: As a woman you shouldn't...</td>\n",
       "      <td>0</td>\n",
       "      <td>0</td>\n",
       "      <td>3</td>\n",
       "    </tr>\n",
       "    <tr>\n",
       "      <th>4896</th>\n",
       "      <td>!!!!! RT @mleew17: boy dats cold...tyga dwn ba...</td>\n",
       "      <td>0</td>\n",
       "      <td>3</td>\n",
       "      <td>0</td>\n",
       "    </tr>\n",
       "    <tr>\n",
       "      <th>16931</th>\n",
       "      <td>!!!!!!! RT @UrKindOfBrand Dawg!!!! RT @80sbaby...</td>\n",
       "      <td>0</td>\n",
       "      <td>3</td>\n",
       "      <td>0</td>\n",
       "    </tr>\n",
       "    <tr>\n",
       "      <th>8199</th>\n",
       "      <td>!!!!!!!!! RT @C_G_Anderson: @viva_based she lo...</td>\n",
       "      <td>0</td>\n",
       "      <td>2</td>\n",
       "      <td>1</td>\n",
       "    </tr>\n",
       "    <tr>\n",
       "      <th>2185</th>\n",
       "      <td>!!!!!!!!!!!!! RT @ShenikaRoberts: The shit you...</td>\n",
       "      <td>0</td>\n",
       "      <td>6</td>\n",
       "      <td>0</td>\n",
       "    </tr>\n",
       "  </tbody>\n",
       "</table>\n",
       "</div>"
      ],
      "text/plain": [
       "                                            comment_text  hate_speech  \\\n",
       "19653  !!! RT @mayasolovely: As a woman you shouldn't...            0   \n",
       "4896   !!!!! RT @mleew17: boy dats cold...tyga dwn ba...            0   \n",
       "16931  !!!!!!! RT @UrKindOfBrand Dawg!!!! RT @80sbaby...            0   \n",
       "8199   !!!!!!!!! RT @C_G_Anderson: @viva_based she lo...            0   \n",
       "2185   !!!!!!!!!!!!! RT @ShenikaRoberts: The shit you...            0   \n",
       "\n",
       "       offensive_language  neither  \n",
       "19653                   0        3  \n",
       "4896                    3        0  \n",
       "16931                   3        0  \n",
       "8199                    2        1  \n",
       "2185                    6        0  "
      ]
     },
     "execution_count": 7,
     "metadata": {},
     "output_type": "execute_result"
    }
   ],
   "source": [
    "train_data.head()"
   ]
  },
  {
   "cell_type": "code",
   "execution_count": 8,
   "metadata": {
    "ExecuteTime": {
     "end_time": "2018-11-25T03:41:11.241815Z",
     "start_time": "2018-11-25T03:41:11.226538Z"
    }
   },
   "outputs": [
    {
     "data": {
      "text/html": [
       "<div>\n",
       "<style scoped>\n",
       "    .dataframe tbody tr th:only-of-type {\n",
       "        vertical-align: middle;\n",
       "    }\n",
       "\n",
       "    .dataframe tbody tr th {\n",
       "        vertical-align: top;\n",
       "    }\n",
       "\n",
       "    .dataframe thead th {\n",
       "        text-align: right;\n",
       "    }\n",
       "</style>\n",
       "<table border=\"1\" class=\"dataframe\">\n",
       "  <thead>\n",
       "    <tr style=\"text-align: right;\">\n",
       "      <th></th>\n",
       "      <th>comment_text</th>\n",
       "      <th>hate_speech</th>\n",
       "      <th>offensive_language</th>\n",
       "      <th>neither</th>\n",
       "    </tr>\n",
       "  </thead>\n",
       "  <tbody>\n",
       "    <tr>\n",
       "      <th>1650</th>\n",
       "      <td>RT @Smooth_Orator: For niggas who claim to lov...</td>\n",
       "      <td>0</td>\n",
       "      <td>3</td>\n",
       "      <td>0</td>\n",
       "    </tr>\n",
       "    <tr>\n",
       "      <th>12800</th>\n",
       "      <td>RT @Smooth_Orator: Slander don't exist when yo...</td>\n",
       "      <td>0</td>\n",
       "      <td>2</td>\n",
       "      <td>1</td>\n",
       "    </tr>\n",
       "    <tr>\n",
       "      <th>16187</th>\n",
       "      <td>RT @Smug_Lemur: He loves me *eats a brownie* \\...</td>\n",
       "      <td>0</td>\n",
       "      <td>0</td>\n",
       "      <td>3</td>\n",
       "    </tr>\n",
       "    <tr>\n",
       "      <th>20972</th>\n",
       "      <td>RT @SnapBackTC: wake me up when da bitches get...</td>\n",
       "      <td>0</td>\n",
       "      <td>3</td>\n",
       "      <td>0</td>\n",
       "    </tr>\n",
       "    <tr>\n",
       "      <th>5701</th>\n",
       "      <td>RT @Sneakbo: Man like @Stormzy1 doing Hella th...</td>\n",
       "      <td>1</td>\n",
       "      <td>2</td>\n",
       "      <td>0</td>\n",
       "    </tr>\n",
       "  </tbody>\n",
       "</table>\n",
       "</div>"
      ],
      "text/plain": [
       "                                            comment_text  hate_speech  \\\n",
       "1650   RT @Smooth_Orator: For niggas who claim to lov...            0   \n",
       "12800  RT @Smooth_Orator: Slander don't exist when yo...            0   \n",
       "16187  RT @Smug_Lemur: He loves me *eats a brownie* \\...            0   \n",
       "20972  RT @SnapBackTC: wake me up when da bitches get...            0   \n",
       "5701   RT @Sneakbo: Man like @Stormzy1 doing Hella th...            1   \n",
       "\n",
       "       offensive_language  neither  \n",
       "1650                    3        0  \n",
       "12800                   2        1  \n",
       "16187                   0        3  \n",
       "20972                   3        0  \n",
       "5701                    2        0  "
      ]
     },
     "execution_count": 8,
     "metadata": {},
     "output_type": "execute_result"
    }
   ],
   "source": [
    "test_data.head()"
   ]
  },
  {
   "cell_type": "code",
   "execution_count": 9,
   "metadata": {
    "ExecuteTime": {
     "end_time": "2018-11-25T03:41:11.281171Z",
     "start_time": "2018-11-25T03:41:11.245225Z"
    }
   },
   "outputs": [
    {
     "data": {
      "text/html": [
       "<div>\n",
       "<style scoped>\n",
       "    .dataframe tbody tr th:only-of-type {\n",
       "        vertical-align: middle;\n",
       "    }\n",
       "\n",
       "    .dataframe tbody tr th {\n",
       "        vertical-align: top;\n",
       "    }\n",
       "\n",
       "    .dataframe thead th {\n",
       "        text-align: right;\n",
       "    }\n",
       "</style>\n",
       "<table border=\"1\" class=\"dataframe\">\n",
       "  <thead>\n",
       "    <tr style=\"text-align: right;\">\n",
       "      <th></th>\n",
       "      <th>hate_speech</th>\n",
       "      <th>offensive_language</th>\n",
       "      <th>neither</th>\n",
       "    </tr>\n",
       "  </thead>\n",
       "  <tbody>\n",
       "    <tr>\n",
       "      <th>count</th>\n",
       "      <td>17348.000000</td>\n",
       "      <td>17348.000000</td>\n",
       "      <td>17348.000000</td>\n",
       "    </tr>\n",
       "    <tr>\n",
       "      <th>mean</th>\n",
       "      <td>0.296634</td>\n",
       "      <td>2.386500</td>\n",
       "      <td>0.550899</td>\n",
       "    </tr>\n",
       "    <tr>\n",
       "      <th>std</th>\n",
       "      <td>0.654438</td>\n",
       "      <td>1.383919</td>\n",
       "      <td>1.116649</td>\n",
       "    </tr>\n",
       "    <tr>\n",
       "      <th>min</th>\n",
       "      <td>0.000000</td>\n",
       "      <td>0.000000</td>\n",
       "      <td>0.000000</td>\n",
       "    </tr>\n",
       "    <tr>\n",
       "      <th>25%</th>\n",
       "      <td>0.000000</td>\n",
       "      <td>2.000000</td>\n",
       "      <td>0.000000</td>\n",
       "    </tr>\n",
       "    <tr>\n",
       "      <th>50%</th>\n",
       "      <td>0.000000</td>\n",
       "      <td>3.000000</td>\n",
       "      <td>0.000000</td>\n",
       "    </tr>\n",
       "    <tr>\n",
       "      <th>75%</th>\n",
       "      <td>0.000000</td>\n",
       "      <td>3.000000</td>\n",
       "      <td>0.000000</td>\n",
       "    </tr>\n",
       "    <tr>\n",
       "      <th>max</th>\n",
       "      <td>7.000000</td>\n",
       "      <td>9.000000</td>\n",
       "      <td>9.000000</td>\n",
       "    </tr>\n",
       "  </tbody>\n",
       "</table>\n",
       "</div>"
      ],
      "text/plain": [
       "        hate_speech  offensive_language       neither\n",
       "count  17348.000000        17348.000000  17348.000000\n",
       "mean       0.296634            2.386500      0.550899\n",
       "std        0.654438            1.383919      1.116649\n",
       "min        0.000000            0.000000      0.000000\n",
       "25%        0.000000            2.000000      0.000000\n",
       "50%        0.000000            3.000000      0.000000\n",
       "75%        0.000000            3.000000      0.000000\n",
       "max        7.000000            9.000000      9.000000"
      ]
     },
     "execution_count": 9,
     "metadata": {},
     "output_type": "execute_result"
    }
   ],
   "source": [
    "train_data.describe()"
   ]
  },
  {
   "cell_type": "code",
   "execution_count": 10,
   "metadata": {
    "ExecuteTime": {
     "end_time": "2018-11-25T03:41:11.290067Z",
     "start_time": "2018-11-25T03:41:11.284148Z"
    }
   },
   "outputs": [
    {
     "data": {
      "text/plain": [
       "['hate_speech', 'offensive_language', 'neither']"
      ]
     },
     "execution_count": 10,
     "metadata": {},
     "output_type": "execute_result"
    }
   ],
   "source": [
    "# Global variables\n",
    "LABELS = list(train_data.columns)  # getting all columns\n",
    "CLASS_LABELS = LABELS[1:]  # selecting only classes\n",
    "CLASS_LABELS"
   ]
  },
  {
   "cell_type": "markdown",
   "metadata": {},
   "source": [
    "The training data set is multi-labeled, which means each comment is labeled with one or more classes. So, it is better to have an idea about the number of comments fall in each classes.\n",
    "\n"
   ]
  },
  {
   "cell_type": "code",
   "execution_count": 11,
   "metadata": {
    "ExecuteTime": {
     "end_time": "2018-11-25T03:41:11.477107Z",
     "start_time": "2018-11-25T03:41:11.293508Z"
    }
   },
   "outputs": [
    {
     "data": {
      "text/plain": [
       "<matplotlib.axes._subplots.AxesSubplot at 0x1a1ab9ada0>"
      ]
     },
     "execution_count": 11,
     "metadata": {},
     "output_type": "execute_result"
    },
    {
     "data": {
      "image/png": "[encoded data removed]",
      "text/plain": [
       "<Figure size 576x432 with 1 Axes>"
      ]
     },
     "metadata": {
      "needs_background": "light"
     },
     "output_type": "display_data"
    }
   ],
   "source": [
    "train_class_count = train_data[CLASS_LABELS].sum()\n",
    "# print(train_class_count)\n",
    "train_class_count.plot.barh(figsize=(8, 6))"
   ]
  },
  {
   "cell_type": "code",
   "execution_count": 12,
   "metadata": {
    "ExecuteTime": {
     "end_time": "2018-11-25T03:41:11.568157Z",
     "start_time": "2018-11-25T03:41:11.480189Z"
    }
   },
   "outputs": [
    {
     "data": {
      "text/plain": [
       "<matplotlib.axes._subplots.AxesSubplot at 0x1a199c8160>"
      ]
     },
     "execution_count": 12,
     "metadata": {},
     "output_type": "execute_result"
    },
    {
     "data": {
      "image/png": "[encoded data removed]",
      "text/plain": [
       "<Figure size 576x432 with 1 Axes>"
      ]
     },
     "metadata": {},
     "output_type": "display_data"
    }
   ],
   "source": [
    "train_class_count.plot.pie(figsize=(8, 6))"
   ]
  },
  {
   "cell_type": "code",
   "execution_count": 13,
   "metadata": {
    "ExecuteTime": {
     "end_time": "2018-11-25T03:41:11.830572Z",
     "start_time": "2018-11-25T03:41:11.571631Z"
    }
   },
   "outputs": [
    {
     "name": "stdout",
     "output_type": "stream",
     "text": [
      "Total number of characters -  1479276\n",
      "Longest comment length -  657\n",
      "Shortest comment length -  7\n"
     ]
    },
    {
     "data": {
      "text/plain": [
       "<matplotlib.axes._subplots.AxesSubplot at 0x1a1a8d61d0>"
      ]
     },
     "execution_count": 13,
     "metadata": {},
     "output_type": "execute_result"
    },
    {
     "data": {
      "image/png": "[encoded data removed]",
      "text/plain": [
       "<Figure size 576x432 with 1 Axes>"
      ]
     },
     "metadata": {
      "needs_background": "light"
     },
     "output_type": "display_data"
    }
   ],
   "source": [
    "train_tmp_df = train_data\n",
    "train_tmp_df['comment_length'] = train_tmp_df['comment_text'].apply(\n",
    "    lambda y: len(str(y)))\n",
    "print(\"Total number of characters - \", train_tmp_df['comment_length'].sum())\n",
    "print(\"Longest comment length - \", train_tmp_df['comment_length'].max())\n",
    "print(\"Shortest comment length - \", train_tmp_df['comment_length'].min())\n",
    "\n",
    "train_tmp_df['comment_length'].hist(color='#258ffc', figsize=(8, 6))"
   ]
  },
  {
   "cell_type": "markdown",
   "metadata": {},
   "source": [
    "To compare the train data and test data with respect to the length of comment and its distribution, will perform similar operations on test data set."
   ]
  },
  {
   "cell_type": "code",
   "execution_count": 14,
   "metadata": {
    "ExecuteTime": {
     "end_time": "2018-11-25T03:41:12.100486Z",
     "start_time": "2018-11-25T03:41:11.835232Z"
    }
   },
   "outputs": [
    {
     "name": "stdout",
     "output_type": "stream",
     "text": [
      "Total number of characters -  637959\n",
      "Longest comment length -  754\n",
      "Shortest comment length -  5\n"
     ]
    },
    {
     "data": {
      "text/plain": [
       "<matplotlib.axes._subplots.AxesSubplot at 0x1a1ada45c0>"
      ]
     },
     "execution_count": 14,
     "metadata": {},
     "output_type": "execute_result"
    },
    {
     "data": {
      "image/png": "[encoded data removed]",
      "text/plain": [
       "<Figure size 576x432 with 1 Axes>"
      ]
     },
     "metadata": {
      "needs_background": "light"
     },
     "output_type": "display_data"
    }
   ],
   "source": [
    "test_tmp_df = test_data\n",
    "test_tmp_df['comment_length'] = test_tmp_df['comment_text'].apply(\n",
    "    lambda t: len(str(t)))\n",
    "print(\"Total number of characters - \", test_tmp_df['comment_length'].sum())\n",
    "print(\"Longest comment length - \", test_tmp_df['comment_length'].max())\n",
    "print(\"Shortest comment length - \", test_tmp_df['comment_length'].min())\n",
    "\n",
    "test_tmp_df['comment_length'].hist(color='red', figsize=(8, 6))"
   ]
  },
  {
   "cell_type": "markdown",
   "metadata": {},
   "source": [
    "Now, the shape of comment and its length distribution looks similar between the training data and the train data. Next step is clean the data."
   ]
  },
  {
   "cell_type": "markdown",
   "metadata": {},
   "source": [
    "### 2. Cleaning the train and test data"
   ]
  },
  {
   "cell_type": "code",
   "execution_count": 15,
   "metadata": {
    "ExecuteTime": {
     "end_time": "2018-11-25T03:41:12.127714Z",
     "start_time": "2018-11-25T03:41:12.104870Z"
    }
   },
   "outputs": [],
   "source": [
    "class CleanData:\n",
    "    \"\"\"\n",
    "    Utiliy class to clean the data. provides instance and static methods \n",
    "    for cleaning the train/test data\n",
    "\n",
    "    Args:\n",
    "    data_set : data set to be cleaned. \n",
    "    \"\"\"\n",
    "\n",
    "    def __init__(self, data_set):\n",
    "        self.data_set = data_set\n",
    "\n",
    "    def fill_null(self):\n",
    "        \"\"\"\n",
    "        Method to fill all the null values in the data set\n",
    "\n",
    "        Args:\n",
    "\n",
    "        Returns:\n",
    "        data_set : data set with non null values\n",
    "\n",
    "        \"\"\"\n",
    "        self.data_set.fillna(' ')\n",
    "        return self.data_set\n",
    "\n",
    "    def clean_text(self, field):\n",
    "        \"\"\"\n",
    "        Method to clean the text data. \n",
    "\n",
    "        Args:\n",
    "        field : class label in the data set\n",
    "\n",
    "        Returns:\n",
    "        data_set : cleaned data set\n",
    "\n",
    "        \"\"\"\n",
    "        self.data_set[field] = self.data_set[field].str.replace(r\"http\\S+\", \"\")\n",
    "        self.data_set[field] = self.data_set[field].str.replace(r\"http\", \"\")\n",
    "        self.data_set[field] = self.data_set[field].str.replace(r\"@\\S+\", \"\")\n",
    "        self.data_set[field] = self.data_set[field].str.replace(r\"!+ RT\", \"\")\n",
    "        self.data_set[field] = self.data_set[field].str.replace(r\"RT \", \"\")\n",
    "        self.data_set[field] = self.data_set[field].str.replace(\n",
    "            r\"[^A-Za-z0-9(),!?@\\'\\`\\\"\\_\\n]\", \" \")\n",
    "        self.data_set[field] = self.data_set[field].str.replace(r\"@[a-zA-Z0-9_]\", \" \")\n",
    "        self.data_set[field] = self.data_set[field].str.replace(\n",
    "            r\"what's\", \"what is\")\n",
    "        self.data_set[field] = self.data_set[field].str.replace(\n",
    "            r\"\\'ve\", \" have\")\n",
    "        self.data_set[field] = self.data_set[field].str.replace(\n",
    "            r\"can't\", \"can not\")\n",
    "        self.data_set[field] = self.data_set[field].str.replace(\n",
    "            r\"don't\", \"do not\")\n",
    "        self.data_set[field] = self.data_set[field].str.replace(\n",
    "            r\"weren't\", \"were not\")\n",
    "        self.data_set[field] = self.data_set[field].str.replace(\n",
    "            r\"doesn't\", \"does not\")\n",
    "        self.data_set[field] = self.data_set[field].str.replace(\n",
    "            r\"i'm\", \"i am \")\n",
    "        self.data_set[field] = self.data_set[field].str.replace(\n",
    "            r\"\\'re\", \" are \")\n",
    "        self.data_set[field] = self.data_set[field].str.replace(\n",
    "            r\"\\'d\", \" would \")\n",
    "        self.data_set[field] = self.data_set[field].str.replace(\n",
    "            r\"shouldn't\", \" should not \")\n",
    "        self.data_set[field] = self.data_set[field].str.replace(r\"\\'s\", \" \")\n",
    "        self.data_set[field] = self.data_set[field].str.replace(r\"\\W\", \" \")\n",
    "        self.data_set[field] = self.data_set[field].str.replace(r\"\\s+\", \" \")\n",
    "        self.data_set[field] = self.data_set[field].str.lower()\n",
    "        return self.data_set\n",
    "\n",
    "    def remove_stop_words(self, field):\n",
    "        \"\"\"\n",
    "        Method to remove the stopwords from the text.\n",
    "\n",
    "        Args:\n",
    "        field: class label in the dataset\n",
    "\n",
    "        Returns:\n",
    "        data_set : data set without stopwords.\n",
    "        \"\"\"\n",
    "        self.data_set[field].apply(lambda x: ' '.join(\n",
    "            [word for word in x.split() if word not in stopwords.words('english')]))\n",
    "        return self.data_set\n",
    "\n",
    "    def get_text(self, field):\n",
    "        \"\"\"\n",
    "        Utility method to get particular column from data set\n",
    "\n",
    "        Args:\n",
    "        field : name of the required field\n",
    "\n",
    "        Returns:\n",
    "        data_set : returns the text of metioned field\n",
    "        \"\"\"\n",
    "\n",
    "        return self.data_set[field]\n",
    "\n",
    "    @staticmethod\n",
    "    def get_all_text(data_set_one, data_set_two, field):\n",
    "        \"\"\"\n",
    "        Static method to combine a particular column of two data sets.\n",
    "\n",
    "        Args:\n",
    "        data_set_one : data frame \n",
    "        data_set_two : data frame\n",
    "        field : column name \n",
    "\n",
    "        Returns:\n",
    "        data_set : new data set\n",
    "\n",
    "        \"\"\"\n",
    "        data_set = pd.concat([data_set_one[field], data_set_two[field]])\n",
    "        return data_set\n",
    "\n",
    "    @staticmethod\n",
    "    def get_all_text(data_set_one, data_set_two):\n",
    "        \"\"\"\n",
    "        Static method to combine two data sets.\n",
    "\n",
    "        Args:\n",
    "        data_set_one : first data set of type data frame\n",
    "        data_set_two : second data set of type \n",
    "\n",
    "        Returns:\n",
    "        data_set_merged : new combined data set\n",
    "        \"\"\"\n",
    "        data_set_merged = pd.concat([data_set_one, data_set_two])\n",
    "        return data_set_merged"
   ]
  },
  {
   "cell_type": "markdown",
   "metadata": {},
   "source": [
    "The above class CleanData provides couple of methods to perform the data cleaning both on train and test data.CleanData class also defined some static methods to combine the data sets."
   ]
  },
  {
   "cell_type": "markdown",
   "metadata": {},
   "source": [
    "Cleaning the train and test data"
   ]
  },
  {
   "cell_type": "code",
   "execution_count": 16,
   "metadata": {
    "ExecuteTime": {
     "end_time": "2018-11-25T03:42:03.154266Z",
     "start_time": "2018-11-25T03:41:12.132207Z"
    }
   },
   "outputs": [
    {
     "data": {
      "text/plain": [
       "19653     as a woman you should not complain about clea...\n",
       "4896      boy dats cold tyga dwn bad for cuffin dat hoe...\n",
       "16931     dawg you ever fuck a bitch and she start to c...\n",
       "8199                                she look like a tranny\n",
       "2185      the shit you hear about me might be true or i...\n",
       "Name: comment_text, dtype: object"
      ]
     },
     "execution_count": 16,
     "metadata": {},
     "output_type": "execute_result"
    }
   ],
   "source": [
    "clean_train_data = CleanData(train_data)\n",
    "train_text = clean_train_data.fill_null()\n",
    "train_text = clean_train_data.clean_text(field='comment_text')\n",
    "train_text = clean_train_data.remove_stop_words(field='comment_text')\n",
    "train_text = clean_train_data.get_text('comment_text')\n",
    "train_text.head()"
   ]
  },
  {
   "cell_type": "code",
   "execution_count": 17,
   "metadata": {
    "ExecuteTime": {
     "end_time": "2018-11-25T03:42:03.164249Z",
     "start_time": "2018-11-25T03:42:03.157665Z"
    }
   },
   "outputs": [
    {
     "data": {
      "text/plain": [
       "((17348,), pandas.core.series.Series)"
      ]
     },
     "execution_count": 17,
     "metadata": {},
     "output_type": "execute_result"
    }
   ],
   "source": [
    "train_text.shape, type(train_text)"
   ]
  },
  {
   "cell_type": "code",
   "execution_count": 18,
   "metadata": {
    "ExecuteTime": {
     "end_time": "2018-11-25T03:42:03.175735Z",
     "start_time": "2018-11-25T03:42:03.168055Z"
    }
   },
   "outputs": [
    {
     "data": {
      "text/plain": [
       "19653     as a woman you should not complain about clea...\n",
       "4896      boy dats cold tyga dwn bad for cuffin dat hoe...\n",
       "16931     dawg you ever fuck a bitch and she start to c...\n",
       "8199                                she look like a tranny\n",
       "2185      the shit you hear about me might be true or i...\n",
       "Name: comment_text, dtype: object"
      ]
     },
     "execution_count": 18,
     "metadata": {},
     "output_type": "execute_result"
    }
   ],
   "source": [
    "train_text.head()"
   ]
  },
  {
   "cell_type": "code",
   "execution_count": 19,
   "metadata": {
    "ExecuteTime": {
     "end_time": "2018-11-25T03:42:22.560610Z",
     "start_time": "2018-11-25T03:42:03.178991Z"
    }
   },
   "outputs": [
    {
     "data": {
      "text/plain": [
       "1650      for niggas who claim to love pussy as much as...\n",
       "12800     slander do not exist when you make her cum ev...\n",
       "16187     he loves me eats a brownie he loves me not ea...\n",
       "20972                  wake me up when da bitches get here\n",
       "5701      man like doing hella things 128175 128175 128...\n",
       "Name: comment_text, dtype: object"
      ]
     },
     "execution_count": 19,
     "metadata": {},
     "output_type": "execute_result"
    }
   ],
   "source": [
    "clean_test_data = CleanData(test_data)\n",
    "test_text = clean_test_data.fill_null()\n",
    "test_text = clean_test_data.clean_text(field='comment_text')\n",
    "test_text = clean_test_data.remove_stop_words(field='comment_text')\n",
    "test_text = clean_test_data.get_text('comment_text')\n",
    "test_text.head()"
   ]
  },
  {
   "cell_type": "code",
   "execution_count": 20,
   "metadata": {
    "ExecuteTime": {
     "end_time": "2018-11-25T03:42:22.572086Z",
     "start_time": "2018-11-25T03:42:22.564295Z"
    }
   },
   "outputs": [
    {
     "data": {
      "text/plain": [
       "((7434,), pandas.core.series.Series)"
      ]
     },
     "execution_count": 20,
     "metadata": {},
     "output_type": "execute_result"
    }
   ],
   "source": [
    "test_text.shape, type(test_text)"
   ]
  },
  {
   "cell_type": "code",
   "execution_count": 21,
   "metadata": {
    "ExecuteTime": {
     "end_time": "2018-11-25T03:42:22.584190Z",
     "start_time": "2018-11-25T03:42:22.574824Z"
    }
   },
   "outputs": [
    {
     "data": {
      "text/plain": [
       "1650      for niggas who claim to love pussy as much as...\n",
       "12800     slander do not exist when you make her cum ev...\n",
       "16187     he loves me eats a brownie he loves me not ea...\n",
       "20972                  wake me up when da bitches get here\n",
       "5701      man like doing hella things 128175 128175 128...\n",
       "Name: comment_text, dtype: object"
      ]
     },
     "execution_count": 21,
     "metadata": {},
     "output_type": "execute_result"
    }
   ],
   "source": [
    "test_text.head()"
   ]
  },
  {
   "cell_type": "code",
   "execution_count": 22,
   "metadata": {
    "ExecuteTime": {
     "end_time": "2018-11-25T03:42:22.599684Z",
     "start_time": "2018-11-25T03:42:22.591345Z"
    }
   },
   "outputs": [],
   "source": [
    "full_text = CleanData.get_all_text(\n",
    "    data_set_one=train_text, data_set_two=test_text)"
   ]
  },
  {
   "cell_type": "markdown",
   "metadata": {},
   "source": [
    "### 3. Feature Implementation, Build and Train Model"
   ]
  },
  {
   "cell_type": "code",
   "execution_count": 23,
   "metadata": {
    "ExecuteTime": {
     "end_time": "2018-11-25T03:42:22.614779Z",
     "start_time": "2018-11-25T03:42:22.603875Z"
    }
   },
   "outputs": [],
   "source": [
    "class WordVectorizer:\n",
    "    \"\"\"\n",
    "    WordVectorizer class provides methods to perform vectorization for words\n",
    "\n",
    "    Args:\n",
    "    data_set : input data set\n",
    "\n",
    "    \"\"\"\n",
    "\n",
    "    def __init__(self, data_set):\n",
    "        self.data_set = data_set\n",
    "\n",
    "    def word_vector(self, ngram_value=1):\n",
    "        \"\"\"\n",
    "\n",
    "        word_vector method generates the Tfidf vector for the data set. \n",
    "        It accepts an optinal parameter to specify the ngram value.\n",
    "\n",
    "        Args:\n",
    "        ngram_value : n gram value, default:1.\n",
    "\n",
    "        Returns:\n",
    "        word_vec : Tfidf vector.\n",
    "\n",
    "        \"\"\"\n",
    "        word_vec = TfidfVectorizer(sublinear_tf=True, strip_accents='unicode',\n",
    "                                   analyzer='word', token_pattern=r'\\w{1,}',\n",
    "                                   stop_words='english', ngram_range=(1, ngram_value),\n",
    "                                   max_features=10000)\n",
    "        word_vec.fit(self.data_set)\n",
    "        return word_vec"
   ]
  },
  {
   "cell_type": "markdown",
   "metadata": {},
   "source": [
    "Above class provides method to get the trem documents for words. Also, implemented ngram feature before Tfidf vectorization. We can dynamically specify the ngram feature to its method."
   ]
  },
  {
   "cell_type": "code",
   "execution_count": 24,
   "metadata": {
    "ExecuteTime": {
     "end_time": "2018-11-25T03:42:22.628600Z",
     "start_time": "2018-11-25T03:42:22.621279Z"
    }
   },
   "outputs": [],
   "source": [
    "class CharVectorizer:\n",
    "    \"\"\"\n",
    "    CharVectorizer class provides methods to perform character level ngram and Tfidf.\n",
    "\n",
    "    Args:\n",
    "    data_set : input data set\n",
    "\n",
    "    \"\"\"\n",
    "\n",
    "    def __init__(self, data_set):\n",
    "        self.data_set = data_set\n",
    "\n",
    "    def char_vector(self):\n",
    "        \"\"\"\n",
    "        char_vector method generates the Tfidf vector for the data set. \n",
    "\n",
    "        Returns:\n",
    "        char_vec : Tfidf vector.\n",
    "\n",
    "        \"\"\"\n",
    "\n",
    "        char_vec = TfidfVectorizer(sublinear_tf=True, strip_accents='unicode',\n",
    "                                   analyzer='char', stop_words='english',\n",
    "                                   ngram_range=(4, 6), max_features=50000)\n",
    "        char_vec.fit(self.data_set)\n",
    "        return char_vec"
   ]
  },
  {
   "cell_type": "markdown",
   "metadata": {},
   "source": [
    "The above class is to implement the character level n-gram and then generate the term frequency vector. This help to find out the hidden toxic characters or group of characters which are usually found within a word."
   ]
  },
  {
   "cell_type": "code",
   "execution_count": 25,
   "metadata": {
    "ExecuteTime": {
     "end_time": "2018-11-25T03:42:23.011265Z",
     "start_time": "2018-11-25T03:42:22.632674Z"
    }
   },
   "outputs": [],
   "source": [
    "# word_vectorizer = WordVectorizer(full_text)\n",
    "word_vectorizer = WordVectorizer(train_text)\n",
    "word_vec = word_vectorizer.word_vector()"
   ]
  },
  {
   "cell_type": "code",
   "execution_count": 26,
   "metadata": {
    "ExecuteTime": {
     "end_time": "2018-11-25T03:42:23.303012Z",
     "start_time": "2018-11-25T03:42:23.014104Z"
    }
   },
   "outputs": [],
   "source": [
    "train_word_features = word_vec.transform(train_text)"
   ]
  },
  {
   "cell_type": "code",
   "execution_count": 27,
   "metadata": {
    "ExecuteTime": {
     "end_time": "2018-11-25T03:42:23.460846Z",
     "start_time": "2018-11-25T03:42:23.306521Z"
    }
   },
   "outputs": [],
   "source": [
    "test_word_features = word_vec.transform(test_text)"
   ]
  },
  {
   "cell_type": "code",
   "execution_count": 28,
   "metadata": {
    "ExecuteTime": {
     "end_time": "2018-11-25T03:42:33.828818Z",
     "start_time": "2018-11-25T03:42:23.463020Z"
    }
   },
   "outputs": [],
   "source": [
    "# char_vectorizer = CharVectorizer(full_text)\n",
    "char_vectorizer = CharVectorizer(train_text)\n",
    "char_vec = char_vectorizer.char_vector()\n",
    "train_char_features = char_vec.transform(train_text)\n",
    "test_char_features = char_vec.transform(test_text)"
   ]
  },
  {
   "cell_type": "code",
   "execution_count": 29,
   "metadata": {
    "ExecuteTime": {
     "end_time": "2018-11-25T03:43:19.181925Z",
     "start_time": "2018-11-25T03:42:33.831388Z"
    }
   },
   "outputs": [
    {
     "data": {
      "text/plain": [
       "(pandas.core.frame.DataFrame, scipy.sparse.coo.coo_matrix)"
      ]
     },
     "execution_count": 29,
     "metadata": {},
     "output_type": "execute_result"
    }
   ],
   "source": [
    "train_target = CleanData(train_data).fill_null()\n",
    "train_target = CleanData(train_data).clean_text(field='comment_text')\n",
    "train_target = CleanData(train_data).remove_stop_words(field='comment_text')\n",
    "train_features = hstack([train_char_features, train_word_features])\n",
    "type(train_target), type(train_features)"
   ]
  },
  {
   "cell_type": "code",
   "execution_count": 30,
   "metadata": {
    "ExecuteTime": {
     "end_time": "2018-11-25T03:43:19.206910Z",
     "start_time": "2018-11-25T03:43:19.185830Z"
    }
   },
   "outputs": [
    {
     "data": {
      "text/html": [
       "<div>\n",
       "<style scoped>\n",
       "    .dataframe tbody tr th:only-of-type {\n",
       "        vertical-align: middle;\n",
       "    }\n",
       "\n",
       "    .dataframe tbody tr th {\n",
       "        vertical-align: top;\n",
       "    }\n",
       "\n",
       "    .dataframe thead th {\n",
       "        text-align: right;\n",
       "    }\n",
       "</style>\n",
       "<table border=\"1\" class=\"dataframe\">\n",
       "  <thead>\n",
       "    <tr style=\"text-align: right;\">\n",
       "      <th></th>\n",
       "      <th>comment_text</th>\n",
       "      <th>hate_speech</th>\n",
       "      <th>offensive_language</th>\n",
       "      <th>neither</th>\n",
       "      <th>comment_length</th>\n",
       "    </tr>\n",
       "  </thead>\n",
       "  <tbody>\n",
       "    <tr>\n",
       "      <th>19653</th>\n",
       "      <td>as a woman you should not complain about clea...</td>\n",
       "      <td>0</td>\n",
       "      <td>0</td>\n",
       "      <td>3</td>\n",
       "      <td>140</td>\n",
       "    </tr>\n",
       "    <tr>\n",
       "      <th>4896</th>\n",
       "      <td>boy dats cold tyga dwn bad for cuffin dat hoe...</td>\n",
       "      <td>0</td>\n",
       "      <td>3</td>\n",
       "      <td>0</td>\n",
       "      <td>85</td>\n",
       "    </tr>\n",
       "    <tr>\n",
       "      <th>16931</th>\n",
       "      <td>dawg you ever fuck a bitch and she start to c...</td>\n",
       "      <td>0</td>\n",
       "      <td>3</td>\n",
       "      <td>0</td>\n",
       "      <td>120</td>\n",
       "    </tr>\n",
       "    <tr>\n",
       "      <th>8199</th>\n",
       "      <td>she look like a tranny</td>\n",
       "      <td>0</td>\n",
       "      <td>2</td>\n",
       "      <td>1</td>\n",
       "      <td>62</td>\n",
       "    </tr>\n",
       "    <tr>\n",
       "      <th>2185</th>\n",
       "      <td>the shit you hear about me might be true or i...</td>\n",
       "      <td>0</td>\n",
       "      <td>6</td>\n",
       "      <td>0</td>\n",
       "      <td>137</td>\n",
       "    </tr>\n",
       "  </tbody>\n",
       "</table>\n",
       "</div>"
      ],
      "text/plain": [
       "                                            comment_text  hate_speech  \\\n",
       "19653   as a woman you should not complain about clea...            0   \n",
       "4896    boy dats cold tyga dwn bad for cuffin dat hoe...            0   \n",
       "16931   dawg you ever fuck a bitch and she start to c...            0   \n",
       "8199                              she look like a tranny            0   \n",
       "2185    the shit you hear about me might be true or i...            0   \n",
       "\n",
       "       offensive_language  neither  comment_length  \n",
       "19653                   0        3             140  \n",
       "4896                    3        0              85  \n",
       "16931                   3        0             120  \n",
       "8199                    2        1              62  \n",
       "2185                    6        0             137  "
      ]
     },
     "execution_count": 30,
     "metadata": {},
     "output_type": "execute_result"
    }
   ],
   "source": [
    "train_target.head()"
   ]
  },
  {
   "cell_type": "code",
   "execution_count": 31,
   "metadata": {
    "ExecuteTime": {
     "end_time": "2018-11-25T03:43:19.225883Z",
     "start_time": "2018-11-25T03:43:19.211051Z"
    }
   },
   "outputs": [],
   "source": [
    "full_text = CleanData.get_all_text(\n",
    "    data_set_one=train_text, data_set_two=test_text)"
   ]
  },
  {
   "cell_type": "code",
   "execution_count": 32,
   "metadata": {
    "ExecuteTime": {
     "end_time": "2018-11-25T03:43:19.238053Z",
     "start_time": "2018-11-25T03:43:19.230374Z"
    }
   },
   "outputs": [
    {
     "data": {
      "text/plain": [
       "((17348, 5), (17348, 60000), (17348, 50000))"
      ]
     },
     "execution_count": 32,
     "metadata": {},
     "output_type": "execute_result"
    }
   ],
   "source": [
    "train_target.shape, train_features.shape,train_char_features.shape"
   ]
  },
  {
   "cell_type": "code",
   "execution_count": 33,
   "metadata": {
    "ExecuteTime": {
     "end_time": "2018-11-25T03:43:19.368151Z",
     "start_time": "2018-11-25T03:43:19.241373Z"
    }
   },
   "outputs": [
    {
     "data": {
      "text/plain": [
       "(17348, 60000)"
      ]
     },
     "execution_count": 33,
     "metadata": {},
     "output_type": "execute_result"
    }
   ],
   "source": [
    "# combine both char level features and word level features\n",
    "train_features = hstack([train_char_features, train_word_features])\n",
    "test_features = hstack([test_char_features, test_word_features])\n",
    "train_features.shape"
   ]
  },
  {
   "cell_type": "code",
   "execution_count": 34,
   "metadata": {
    "ExecuteTime": {
     "end_time": "2018-11-25T03:43:19.378153Z",
     "start_time": "2018-11-25T03:43:19.371394Z"
    }
   },
   "outputs": [
    {
     "data": {
      "text/plain": [
       "scipy.sparse.coo.coo_matrix"
      ]
     },
     "execution_count": 34,
     "metadata": {},
     "output_type": "execute_result"
    }
   ],
   "source": [
    "test_features.shape\n",
    "type(test_features)"
   ]
  },
  {
   "cell_type": "markdown",
   "metadata": {},
   "source": [
    "Defining the classifier Logestic Regression with Naive Bayes features."
   ]
  },
  {
   "cell_type": "code",
   "execution_count": 35,
   "metadata": {
    "ExecuteTime": {
     "end_time": "2018-11-25T03:43:19.397719Z",
     "start_time": "2018-11-25T03:43:19.381332Z"
    }
   },
   "outputs": [],
   "source": [
    "class NbLogRegClassifier(BaseEstimator, ClassifierMixin):\n",
    "\n",
    "    \"\"\"\n",
    "    The Logestic Regression classifier makes use of basic Naive Bayes feature.\n",
    "    The classifier inherits from BaseEstimator and ClassifierMixin sklearn's base package.\n",
    "\n",
    "    Args:\n",
    "    C :  Inverse of regularization strength; must be a positive float. \n",
    "        Like in support vector machines, smaller values specify stronger regularization.\n",
    "        default: 1.0\n",
    "    solver : Algorithm to use in the optimization problem.\n",
    "            default: 'sag'\n",
    "            prefered for multiclass problem - 'newton-cg’, ‘sag’, ‘saga’ or ‘lbfgs'\n",
    "    n_jobs : Number of CPU cores used when parallelizing over classes if multi_class=’ovr’”.\n",
    "            default: -1 (using all processors)\n",
    "    max_iter : Maximum number of iterations taken for the solvers to converge.\n",
    "            default: 4000\n",
    "    dual: Dual or primal formulation. Dual formulation is only implemented for l2 penalty with liblinear solver. \n",
    "          Prefer dual=False when n_samples > n_features.\n",
    "          default: False\n",
    "\n",
    "    \"\"\"\n",
    "\n",
    "    def __init__(self, C=4, dual=False, n_jobs=-1, solver='sag', max_iter=4000):\n",
    "        self.C = C\n",
    "        self.dual = dual\n",
    "        self.n_jobs = n_jobs\n",
    "        self.max_iter = max_iter\n",
    "        self.solver = solver\n",
    "\n",
    "    def predict(self, X):\n",
    "        \"\"\"\n",
    "\n",
    "        Predict class labels for samples in X.\n",
    "\n",
    "        Args:\n",
    "        X : array_like or sparse matrix, shape (n_samples, n_features)\n",
    "\n",
    "        Returns:\n",
    "\n",
    "        C : array, shape [n_samples]\n",
    "            Predicted class label per sample.\n",
    "\n",
    "        \"\"\"\n",
    "        check_is_fitted(self, ['_r', '_clf'])\n",
    "        return self._clf.predict(X.multiply(self._r))\n",
    "\n",
    "    def predict_proba(self, X):\n",
    "        \"\"\"\n",
    "\n",
    "        Probability estimates.\n",
    "\n",
    "        The returned estimates for all classes are ordered by the\n",
    "        label of classes.\n",
    "\n",
    "        Args:\n",
    "        X : array-like, shape = [n_samples, n_features]\n",
    "\n",
    "        Returns:\n",
    "        T : \n",
    "\n",
    "        \"\"\"\n",
    "\n",
    "        check_is_fitted(self, ['_r', '_clf'])\n",
    "        return self._clf.predict_proba(X.multiply(self._r))\n",
    "\n",
    "    def fit(self, X, y):\n",
    "        \"\"\"\n",
    "\n",
    "        Fit the model according to the given training data.\n",
    "\n",
    "        Args:\n",
    "        X : {array-like, sparse matrix}, shape (n_samples, n_features)\n",
    "            Training vector, where n_samples is the number of samples and n_features is the number of features.\n",
    "        y : array-like, shape (n_samples,) or (n_samples, n_targets)\n",
    "            Target vector relative to X.\n",
    "        sample_weight : array-like, shape (n_samples,) optional\n",
    "                        Array of weights that are assigned to individual samples. \n",
    "                        If not provided, then each sample is given unit weight.\n",
    "\n",
    "        Returns:\n",
    "        self : object\n",
    "\n",
    "        \"\"\"\n",
    "\n",
    "        y = y.values\n",
    "        X, y = check_X_y(X, y, accept_sparse=True)\n",
    "\n",
    "        def pr(X, y_i, y):\n",
    "            \"\"\"\n",
    "            Method to implement the basic Naive Bayes feature\n",
    "            \"\"\"\n",
    "            p = X[y == y_i].sum(0)\n",
    "            return (p+1) / ((y == y_i).sum()+1)\n",
    "\n",
    "        self._r = sparse.csr_matrix(np.log(pr(X, 1, y) / pr(X, 0, y)))\n",
    "        x_nb = X.multiply(self._r)\n",
    "        self._clf = LogisticRegression(\n",
    "            C=self.C, dual=self.dual, n_jobs=self.n_jobs).fit(x_nb, y)\n",
    "        return self"
   ]
  },
  {
   "cell_type": "markdown",
   "metadata": {},
   "source": [
    "A miscellanious utility class."
   ]
  },
  {
   "cell_type": "code",
   "execution_count": 36,
   "metadata": {
    "ExecuteTime": {
     "end_time": "2018-11-25T03:43:19.419060Z",
     "start_time": "2018-11-25T03:43:19.405451Z"
    }
   },
   "outputs": [],
   "source": [
    "class Utility:\n",
    "\n",
    "    \"\"\"\n",
    "    The utility class which provides static methods to perform some miscellanious operations.\n",
    "    \"\"\"\n",
    "\n",
    "    @staticmethod\n",
    "    def compare_models(md1_acc, md1_name, md2_acc, md2_name, title=None):\n",
    "        \"\"\"\n",
    "        Static method takes the accuracy/cv score of two models and generate comparision graph\n",
    "\n",
    "        Args:\n",
    "        md1_acc : Accuracy score/ CV score of model 1, preferred- pandas Series\n",
    "        md1_name : Name for the first model\n",
    "        md2_acc : Accuracy score/ CV score of model 1, preferred- pandas Series\n",
    "        md2_name : Name for the first model\n",
    "        title : (optional) Title for the comparision.\n",
    "\n",
    "        Returns: my_plot of type matplotlib's pyplot.\n",
    "        \"\"\"\n",
    "\n",
    "        md1_acc = md1_acc.mul(100, axis=0)\n",
    "        md2_acc = md2_acc.mul(100, axis=0)\n",
    "        df = pd.DataFrame(md1_acc, columns=[md1_name])\n",
    "        df[md2_name] = md2_acc\n",
    "        my_plot = df.plot(kind='bar', figsize=(12, 10),\n",
    "                          legend=True, grid=True, title=title, stacked=False)\n",
    "        my_plot.set_xlabel(\"Classes\")\n",
    "        my_plot.set_ylabel(\"Accuracy\")\n",
    "        return my_plot"
   ]
  },
  {
   "cell_type": "markdown",
   "metadata": {},
   "source": [
    "### 4. Validating the Model"
   ]
  },
  {
   "cell_type": "markdown",
   "metadata": {
    "ExecuteTime": {
     "end_time": "2018-11-25T03:14:17.166641Z",
     "start_time": "2018-11-25T03:14:17.143594Z"
    }
   },
   "source": [
    "Will train and validate the model."
   ]
  },
  {
   "cell_type": "markdown",
   "metadata": {},
   "source": [
    "Naive Bayes"
   ]
  },
  {
   "cell_type": "code",
   "execution_count": 38,
   "metadata": {
    "ExecuteTime": {
     "end_time": "2018-11-25T03:43:52.593802Z",
     "start_time": "2018-11-25T03:43:51.322044Z"
    }
   },
   "outputs": [
    {
     "name": "stdout",
     "output_type": "stream",
     "text": [
      "CV score using Naive Bayes - 0.7360911539312952\n"
     ]
    }
   ],
   "source": [
    "nb_accuracy = {}\n",
    "for label in CLASS_LABELS:\n",
    "    train_target = CleanData(train_data).fill_null()\n",
    "    train_target = train_target[label]\n",
    "    nb = MultinomialNB()\n",
    "\n",
    "    cv_score = np.mean(cross_val_score(nb, train_features,\n",
    "                                       train_target, cv=3))\n",
    "    nb_accuracy[label] = cv_score\n",
    "\n",
    "nb_accuracy['mdl_accuracy'] = np.mean(list(nb_accuracy.values()))\n",
    "print('CV score using Naive Bayes - {}'.format(np.mean(list(nb_accuracy.values()))))\n"
   ]
  },
  {
   "cell_type": "code",
   "execution_count": 39,
   "metadata": {
    "ExecuteTime": {
     "end_time": "2018-11-25T03:43:54.537963Z",
     "start_time": "2018-11-25T03:43:54.335704Z"
    }
   },
   "outputs": [
    {
     "data": {
      "text/plain": [
       "Text(0,0.5,'Accuracy')"
      ]
     },
     "execution_count": 39,
     "metadata": {},
     "output_type": "execute_result"
    },
    {
     "data": {
      "image/png": "[encoded data removed]",
      "text/plain": [
       "<Figure size 720x576 with 1 Axes>"
      ]
     },
     "metadata": {
      "needs_background": "light"
     },
     "output_type": "display_data"
    }
   ],
   "source": [
    "nb_accuracy = pd.Series(nb_accuracy)\n",
    "my_plot = nb_accuracy.plot(kind='bar', figsize=(10, 8))\n",
    "my_plot.set_xlabel(\"Classes\")\n",
    "my_plot.set_ylabel(\"Accuracy\")"
   ]
  },
  {
   "cell_type": "markdown",
   "metadata": {},
   "source": [
    "Logestic Regression with simple Naive Bayes feature"
   ]
  },
  {
   "cell_type": "code",
   "execution_count": 40,
   "metadata": {
    "ExecuteTime": {
     "end_time": "2018-11-25T03:44:51.173026Z",
     "start_time": "2018-11-25T03:43:56.669736Z"
    }
   },
   "outputs": [
    {
     "name": "stdout",
     "output_type": "stream",
     "text": [
      "CV score for NbLogReg - 0.7511740647877866\n"
     ]
    }
   ],
   "source": [
    "nb_logreg_accuracy = {}\n",
    "for label in CLASS_LABELS:\n",
    "    train_target = CleanData(train_data).fill_null()\n",
    "    train_target = train_target[label]\n",
    "    nb_logreg = NbLogRegClassifier(C=4, dual=False, n_jobs=-1, solver='sag', max_iter=2000)\n",
    "\n",
    "    cv_score = np.mean(cross_val_score(nb_logreg, train_features,\n",
    "                                       train_target, cv=3))\n",
    "    nb_logreg_accuracy[label] = cv_score\n",
    "\n",
    "nb_logreg_accuracy['mdl_accuracy'] = np.mean(list(nb_logreg_accuracy.values()))\n",
    "print('CV score for NbLogReg - {}'.format(np.mean(list(nb_logreg_accuracy.values()))))\n"
   ]
  },
  {
   "cell_type": "code",
   "execution_count": 41,
   "metadata": {
    "ExecuteTime": {
     "end_time": "2018-11-25T03:44:52.588529Z",
     "start_time": "2018-11-25T03:44:52.377368Z"
    }
   },
   "outputs": [
    {
     "data": {
      "text/plain": [
       "Text(0,0.5,'Accuracy')"
      ]
     },
     "execution_count": 41,
     "metadata": {},
     "output_type": "execute_result"
    },
    {
     "data": {
      "image/png": "[encoded data removed]",
      "text/plain": [
       "<Figure size 720x576 with 1 Axes>"
      ]
     },
     "metadata": {
      "needs_background": "light"
     },
     "output_type": "display_data"
    }
   ],
   "source": [
    "nb_logreg_accuracy = pd.Series(nb_logreg_accuracy)\n",
    "my_plot = nb_logreg_accuracy.plot(kind='bar', figsize=(10, 8))\n",
    "my_plot.set_xlabel(\"Classes\")\n",
    "my_plot.set_ylabel(\"Accuracy\")"
   ]
  },
  {
   "cell_type": "markdown",
   "metadata": {},
   "source": [
    "Comparing both the models"
   ]
  },
  {
   "cell_type": "code",
   "execution_count": 42,
   "metadata": {
    "ExecuteTime": {
     "end_time": "2018-11-25T03:44:54.043249Z",
     "start_time": "2018-11-25T03:44:53.782342Z"
    }
   },
   "outputs": [
    {
     "data": {
      "text/plain": [
       "<matplotlib.axes._subplots.AxesSubplot at 0x1a1b905da0>"
      ]
     },
     "execution_count": 42,
     "metadata": {},
     "output_type": "execute_result"
    },
    {
     "data": {
      "image/png": "[encoded data removed]",
      "text/plain": [
       "<Figure size 864x720 with 1 Axes>"
      ]
     },
     "metadata": {
      "needs_background": "light"
     },
     "output_type": "display_data"
    }
   ],
   "source": [
    "Utility.compare_models(md1_acc=nb_accuracy,md1_name=\"NB\", md2_acc=nb_logreg_accuracy, md2_name=\"NBLR\",title=\"Naive Bayes vs NB Logestic Regression\")"
   ]
  }
 ],
 "metadata": {
  "kernelspec": {
   "display_name": "Python 3",
   "language": "python",
   "name": "python3"
  },
  "language_info": {
   "codemirror_mode": {
    "name": "ipython",
    "version": 3
   },
   "file_extension": ".py",
   "mimetype": "text/x-python",
   "name": "python",
   "nbconvert_exporter": "python",
   "pygments_lexer": "ipython3",
   "version": "3.6.6"
  },
  "latex_envs": {
   "LaTeX_envs_menu_present": true,
   "autoclose": false,
   "autocomplete": true,
   "bibliofile": "biblio.bib",
   "cite_by": "apalike",
   "current_citInitial": 1,
   "eqLabelWithNumbers": true,
   "eqNumInitial": 1,
   "hotkeys": {
    "equation": "Ctrl-E",
    "itemize": "Ctrl-I"
   },
   "labels_anchors": false,
   "latex_user_defs": false,
   "report_style_numbering": false,
   "user_envs_cfg": false
  },
  "varInspector": {
   "cols": {
    "lenName": 16,
    "lenType": 16,
    "lenVar": 40
   },
   "kernels_config": {
    "python": {
     "delete_cmd_postfix": "",
     "delete_cmd_prefix": "del ",
     "library": "var_list.py",
     "varRefreshCmd": "print(var_dic_list())"
    },
    "r": {
     "delete_cmd_postfix": ") ",
     "delete_cmd_prefix": "rm(",
     "library": "var_list.r",
     "varRefreshCmd": "cat(var_dic_list()) "
    }
   },
   "types_to_exclude": [
    "module",
    "function",
    "builtin_function_or_method",
    "instance",
    "_Feature"
   ],
   "window_display": false
  }
 },
 "nbformat": 4,
 "nbformat_minor": 2
}
