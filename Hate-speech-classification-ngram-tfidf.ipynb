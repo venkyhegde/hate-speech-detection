{
 "cells": [
  {
   "cell_type": "markdown",
   "metadata": {},
   "source": [
    "Importing all the required Libraries"
   ]
  },
  {
   "cell_type": "code",
   "execution_count": 1,
   "metadata": {
    "ExecuteTime": {
     "end_time": "2018-11-25T21:28:30.304555Z",
     "start_time": "2018-11-25T21:28:16.361224Z"
    }
   },
   "outputs": [],
   "source": [
    "# importing the lobraries\n",
    "import nltk\n",
    "from nltk.corpus import stopwords\n",
    "import numpy as np\n",
    "import pandas as pd\n",
    "from sklearn.feature_extraction.text import TfidfVectorizer\n",
    "from sklearn.linear_model import LogisticRegression\n",
    "from sklearn.naive_bayes import MultinomialNB\n",
    "from sklearn.base import BaseEstimator, ClassifierMixin\n",
    "from sklearn.utils.validation import check_X_y, check_is_fitted\n",
    "from sklearn.model_selection import cross_val_score\n",
    "from matplotlib import pyplot as plt\n",
    "import matplotlib\n",
    "from scipy.sparse import coo_matrix, hstack\n",
    "from scipy import sparse\n",
    "import warnings\n",
    "warnings.filterwarnings(\"ignore\", category=FutureWarning)\n",
    "%matplotlib inline"
   ]
  },
  {
   "cell_type": "markdown",
   "metadata": {},
   "source": [
    "### 1: Loading the train data and test data from csv files"
   ]
  },
  {
   "cell_type": "code",
   "execution_count": 2,
   "metadata": {
    "ExecuteTime": {
     "end_time": "2018-11-25T21:28:32.454830Z",
     "start_time": "2018-11-25T21:28:30.307594Z"
    }
   },
   "outputs": [],
   "source": [
    "# loading the data\n",
    "train_data = pd.read_csv('./data/all/train.csv')\n",
    "test_data = pd.read_csv('./data/all/test.csv')"
   ]
  },
  {
   "cell_type": "markdown",
   "metadata": {},
   "source": [
    "Utility classes/functions to extract/prepare the data set"
   ]
  },
  {
   "cell_type": "code",
   "execution_count": 1,
   "metadata": {
    "ExecuteTime": {
     "end_time": "2018-11-26T04:18:40.374022Z",
     "start_time": "2018-11-26T04:18:40.359326Z"
    }
   },
   "outputs": [],
   "source": [
    "# PrepareData\n",
    "class PrepareData:\n",
    "    \"\"\"\n",
    "    Class to perpare the data for taraining, and testing \n",
    "    The class provide instance and static methods to prepare the data.\n",
    "\n",
    "    Args:\n",
    "    data_set : data set\n",
    "    \"\"\"\n",
    "\n",
    "    # get and initialize the dataset\n",
    "    def __init__(self, data_set):\n",
    "        self.data_set = data_set\n",
    "\n",
    "    def split_data(self, train_percent=.7, test_percent=.3, seed=None):\n",
    "        \"\"\" This method split the data into train data set and test data set\n",
    "        by default it splits the data as train_data = 70% and test_data = 30%\n",
    "\n",
    "        Args:\n",
    "        train_percent : percentage of train data, default value - 0.7\n",
    "                        default:0.7\n",
    "        test_pecent : percetage of test data, default value - 0.3\n",
    "                        default:0.3\n",
    "        seed : None optional\n",
    "\n",
    "        Returns:\n",
    "        train_data : tranin data\n",
    "        test_data : test data\n",
    "        \"\"\"\n",
    "\n",
    "        np.random.seed(seed=seed)\n",
    "        permuted_test = np.random.permutation(self.data_set.index)\n",
    "        total_len = len(data_set.index)\n",
    "        train_end = int(train_percent * total_len)\n",
    "        test_end = int(test_percent * total_len) + train_end\n",
    "        train_data = self.data_set.loc[permuted_test[:train_end]]\n",
    "        test_data = self.data_set.loc[permuted_test[train_end:test_end]]\n",
    "\n",
    "        return train_data, test_data\n",
    "\n",
    "    @staticmethod\n",
    "    def prepare_test_data(labels, data_set):\n",
    "        \"\"\"\n",
    "        Utility method to prepare the test data. \n",
    "        This method keeps the lables which are required for testing \n",
    "        by removing other lables from data frame\n",
    "\n",
    "        Args:\n",
    "        labels : list of expected lables in test data set\n",
    "        data_set : test data set\n",
    "\n",
    "        Returns:\n",
    "        data_set : processed dataset\n",
    "        \"\"\"\n",
    "\n",
    "        deleting_labels = [label for label in list(\n",
    "            data_set.columns) if label not in labels]\n",
    "        data_set = data_set.drop(deleting_labels, axis=1)\n",
    "        return data_set"
   ]
  },
  {
   "cell_type": "markdown",
   "metadata": {},
   "source": [
    "Looking at the data set before pre processing."
   ]
  },
  {
   "cell_type": "code",
   "execution_count": 4,
   "metadata": {
    "ExecuteTime": {
     "end_time": "2018-11-25T21:28:32.568457Z",
     "start_time": "2018-11-25T21:28:32.547987Z"
    },
    "code_folding": []
   },
   "outputs": [
    {
     "data": {
      "text/plain": [
       "(159571, 153164)"
      ]
     },
     "execution_count": 4,
     "metadata": {},
     "output_type": "execute_result"
    }
   ],
   "source": [
    "# size of traning and test data sets\n",
    "len(train_data), len(test_data)"
   ]
  },
  {
   "cell_type": "code",
   "execution_count": 5,
   "metadata": {
    "ExecuteTime": {
     "end_time": "2018-11-25T21:28:32.599403Z",
     "start_time": "2018-11-25T21:28:32.571743Z"
    }
   },
   "outputs": [
    {
     "data": {
      "text/html": [
       "<div>\n",
       "<style scoped>\n",
       "    .dataframe tbody tr th:only-of-type {\n",
       "        vertical-align: middle;\n",
       "    }\n",
       "\n",
       "    .dataframe tbody tr th {\n",
       "        vertical-align: top;\n",
       "    }\n",
       "\n",
       "    .dataframe thead th {\n",
       "        text-align: right;\n",
       "    }\n",
       "</style>\n",
       "<table border=\"1\" class=\"dataframe\">\n",
       "  <thead>\n",
       "    <tr style=\"text-align: right;\">\n",
       "      <th></th>\n",
       "      <th>id</th>\n",
       "      <th>comment_text</th>\n",
       "      <th>toxic</th>\n",
       "      <th>severe_toxic</th>\n",
       "      <th>obscene</th>\n",
       "      <th>threat</th>\n",
       "      <th>insult</th>\n",
       "      <th>identity_hate</th>\n",
       "    </tr>\n",
       "  </thead>\n",
       "  <tbody>\n",
       "    <tr>\n",
       "      <th>0</th>\n",
       "      <td>0000997932d777bf</td>\n",
       "      <td>Explanation\\nWhy the edits made under my usern...</td>\n",
       "      <td>0</td>\n",
       "      <td>0</td>\n",
       "      <td>0</td>\n",
       "      <td>0</td>\n",
       "      <td>0</td>\n",
       "      <td>0</td>\n",
       "    </tr>\n",
       "    <tr>\n",
       "      <th>1</th>\n",
       "      <td>000103f0d9cfb60f</td>\n",
       "      <td>D'aww! He matches this background colour I'm s...</td>\n",
       "      <td>0</td>\n",
       "      <td>0</td>\n",
       "      <td>0</td>\n",
       "      <td>0</td>\n",
       "      <td>0</td>\n",
       "      <td>0</td>\n",
       "    </tr>\n",
       "    <tr>\n",
       "      <th>2</th>\n",
       "      <td>000113f07ec002fd</td>\n",
       "      <td>Hey man, I'm really not trying to edit war. It...</td>\n",
       "      <td>0</td>\n",
       "      <td>0</td>\n",
       "      <td>0</td>\n",
       "      <td>0</td>\n",
       "      <td>0</td>\n",
       "      <td>0</td>\n",
       "    </tr>\n",
       "    <tr>\n",
       "      <th>3</th>\n",
       "      <td>0001b41b1c6bb37e</td>\n",
       "      <td>\"\\nMore\\nI can't make any real suggestions on ...</td>\n",
       "      <td>0</td>\n",
       "      <td>0</td>\n",
       "      <td>0</td>\n",
       "      <td>0</td>\n",
       "      <td>0</td>\n",
       "      <td>0</td>\n",
       "    </tr>\n",
       "    <tr>\n",
       "      <th>4</th>\n",
       "      <td>0001d958c54c6e35</td>\n",
       "      <td>You, sir, are my hero. Any chance you remember...</td>\n",
       "      <td>0</td>\n",
       "      <td>0</td>\n",
       "      <td>0</td>\n",
       "      <td>0</td>\n",
       "      <td>0</td>\n",
       "      <td>0</td>\n",
       "    </tr>\n",
       "  </tbody>\n",
       "</table>\n",
       "</div>"
      ],
      "text/plain": [
       "                 id                                       comment_text  toxic  \\\n",
       "0  0000997932d777bf  Explanation\\nWhy the edits made under my usern...      0   \n",
       "1  000103f0d9cfb60f  D'aww! He matches this background colour I'm s...      0   \n",
       "2  000113f07ec002fd  Hey man, I'm really not trying to edit war. It...      0   \n",
       "3  0001b41b1c6bb37e  \"\\nMore\\nI can't make any real suggestions on ...      0   \n",
       "4  0001d958c54c6e35  You, sir, are my hero. Any chance you remember...      0   \n",
       "\n",
       "   severe_toxic  obscene  threat  insult  identity_hate  \n",
       "0             0        0       0       0              0  \n",
       "1             0        0       0       0              0  \n",
       "2             0        0       0       0              0  \n",
       "3             0        0       0       0              0  \n",
       "4             0        0       0       0              0  "
      ]
     },
     "execution_count": 5,
     "metadata": {},
     "output_type": "execute_result"
    }
   ],
   "source": [
    "train_data.head()"
   ]
  },
  {
   "cell_type": "code",
   "execution_count": 6,
   "metadata": {
    "ExecuteTime": {
     "end_time": "2018-11-25T21:28:32.616046Z",
     "start_time": "2018-11-25T21:28:32.602490Z"
    }
   },
   "outputs": [
    {
     "data": {
      "text/html": [
       "<div>\n",
       "<style scoped>\n",
       "    .dataframe tbody tr th:only-of-type {\n",
       "        vertical-align: middle;\n",
       "    }\n",
       "\n",
       "    .dataframe tbody tr th {\n",
       "        vertical-align: top;\n",
       "    }\n",
       "\n",
       "    .dataframe thead th {\n",
       "        text-align: right;\n",
       "    }\n",
       "</style>\n",
       "<table border=\"1\" class=\"dataframe\">\n",
       "  <thead>\n",
       "    <tr style=\"text-align: right;\">\n",
       "      <th></th>\n",
       "      <th>id</th>\n",
       "      <th>comment_text</th>\n",
       "    </tr>\n",
       "  </thead>\n",
       "  <tbody>\n",
       "    <tr>\n",
       "      <th>0</th>\n",
       "      <td>00001cee341fdb12</td>\n",
       "      <td>Yo bitch Ja Rule is more succesful then you'll...</td>\n",
       "    </tr>\n",
       "    <tr>\n",
       "      <th>1</th>\n",
       "      <td>0000247867823ef7</td>\n",
       "      <td>== From RfC == \\n\\n The title is fine as it is...</td>\n",
       "    </tr>\n",
       "    <tr>\n",
       "      <th>2</th>\n",
       "      <td>00013b17ad220c46</td>\n",
       "      <td>\" \\n\\n == Sources == \\n\\n * Zawe Ashton on Lap...</td>\n",
       "    </tr>\n",
       "    <tr>\n",
       "      <th>3</th>\n",
       "      <td>00017563c3f7919a</td>\n",
       "      <td>:If you have a look back at the source, the in...</td>\n",
       "    </tr>\n",
       "    <tr>\n",
       "      <th>4</th>\n",
       "      <td>00017695ad8997eb</td>\n",
       "      <td>I don't anonymously edit articles at all.</td>\n",
       "    </tr>\n",
       "  </tbody>\n",
       "</table>\n",
       "</div>"
      ],
      "text/plain": [
       "                 id                                       comment_text\n",
       "0  00001cee341fdb12  Yo bitch Ja Rule is more succesful then you'll...\n",
       "1  0000247867823ef7  == From RfC == \\n\\n The title is fine as it is...\n",
       "2  00013b17ad220c46  \" \\n\\n == Sources == \\n\\n * Zawe Ashton on Lap...\n",
       "3  00017563c3f7919a  :If you have a look back at the source, the in...\n",
       "4  00017695ad8997eb          I don't anonymously edit articles at all."
      ]
     },
     "execution_count": 6,
     "metadata": {},
     "output_type": "execute_result"
    }
   ],
   "source": [
    "test_data.head()"
   ]
  },
  {
   "cell_type": "code",
   "execution_count": 7,
   "metadata": {
    "ExecuteTime": {
     "end_time": "2018-11-25T21:28:32.725487Z",
     "start_time": "2018-11-25T21:28:32.618999Z"
    }
   },
   "outputs": [
    {
     "data": {
      "text/html": [
       "<div>\n",
       "<style scoped>\n",
       "    .dataframe tbody tr th:only-of-type {\n",
       "        vertical-align: middle;\n",
       "    }\n",
       "\n",
       "    .dataframe tbody tr th {\n",
       "        vertical-align: top;\n",
       "    }\n",
       "\n",
       "    .dataframe thead th {\n",
       "        text-align: right;\n",
       "    }\n",
       "</style>\n",
       "<table border=\"1\" class=\"dataframe\">\n",
       "  <thead>\n",
       "    <tr style=\"text-align: right;\">\n",
       "      <th></th>\n",
       "      <th>toxic</th>\n",
       "      <th>severe_toxic</th>\n",
       "      <th>obscene</th>\n",
       "      <th>threat</th>\n",
       "      <th>insult</th>\n",
       "      <th>identity_hate</th>\n",
       "    </tr>\n",
       "  </thead>\n",
       "  <tbody>\n",
       "    <tr>\n",
       "      <th>count</th>\n",
       "      <td>159571.000000</td>\n",
       "      <td>159571.000000</td>\n",
       "      <td>159571.000000</td>\n",
       "      <td>159571.000000</td>\n",
       "      <td>159571.000000</td>\n",
       "      <td>159571.000000</td>\n",
       "    </tr>\n",
       "    <tr>\n",
       "      <th>mean</th>\n",
       "      <td>0.095844</td>\n",
       "      <td>0.009996</td>\n",
       "      <td>0.052948</td>\n",
       "      <td>0.002996</td>\n",
       "      <td>0.049364</td>\n",
       "      <td>0.008805</td>\n",
       "    </tr>\n",
       "    <tr>\n",
       "      <th>std</th>\n",
       "      <td>0.294379</td>\n",
       "      <td>0.099477</td>\n",
       "      <td>0.223931</td>\n",
       "      <td>0.054650</td>\n",
       "      <td>0.216627</td>\n",
       "      <td>0.093420</td>\n",
       "    </tr>\n",
       "    <tr>\n",
       "      <th>min</th>\n",
       "      <td>0.000000</td>\n",
       "      <td>0.000000</td>\n",
       "      <td>0.000000</td>\n",
       "      <td>0.000000</td>\n",
       "      <td>0.000000</td>\n",
       "      <td>0.000000</td>\n",
       "    </tr>\n",
       "    <tr>\n",
       "      <th>25%</th>\n",
       "      <td>0.000000</td>\n",
       "      <td>0.000000</td>\n",
       "      <td>0.000000</td>\n",
       "      <td>0.000000</td>\n",
       "      <td>0.000000</td>\n",
       "      <td>0.000000</td>\n",
       "    </tr>\n",
       "    <tr>\n",
       "      <th>50%</th>\n",
       "      <td>0.000000</td>\n",
       "      <td>0.000000</td>\n",
       "      <td>0.000000</td>\n",
       "      <td>0.000000</td>\n",
       "      <td>0.000000</td>\n",
       "      <td>0.000000</td>\n",
       "    </tr>\n",
       "    <tr>\n",
       "      <th>75%</th>\n",
       "      <td>0.000000</td>\n",
       "      <td>0.000000</td>\n",
       "      <td>0.000000</td>\n",
       "      <td>0.000000</td>\n",
       "      <td>0.000000</td>\n",
       "      <td>0.000000</td>\n",
       "    </tr>\n",
       "    <tr>\n",
       "      <th>max</th>\n",
       "      <td>1.000000</td>\n",
       "      <td>1.000000</td>\n",
       "      <td>1.000000</td>\n",
       "      <td>1.000000</td>\n",
       "      <td>1.000000</td>\n",
       "      <td>1.000000</td>\n",
       "    </tr>\n",
       "  </tbody>\n",
       "</table>\n",
       "</div>"
      ],
      "text/plain": [
       "               toxic   severe_toxic        obscene         threat  \\\n",
       "count  159571.000000  159571.000000  159571.000000  159571.000000   \n",
       "mean        0.095844       0.009996       0.052948       0.002996   \n",
       "std         0.294379       0.099477       0.223931       0.054650   \n",
       "min         0.000000       0.000000       0.000000       0.000000   \n",
       "25%         0.000000       0.000000       0.000000       0.000000   \n",
       "50%         0.000000       0.000000       0.000000       0.000000   \n",
       "75%         0.000000       0.000000       0.000000       0.000000   \n",
       "max         1.000000       1.000000       1.000000       1.000000   \n",
       "\n",
       "              insult  identity_hate  \n",
       "count  159571.000000  159571.000000  \n",
       "mean        0.049364       0.008805  \n",
       "std         0.216627       0.093420  \n",
       "min         0.000000       0.000000  \n",
       "25%         0.000000       0.000000  \n",
       "50%         0.000000       0.000000  \n",
       "75%         0.000000       0.000000  \n",
       "max         1.000000       1.000000  "
      ]
     },
     "execution_count": 7,
     "metadata": {},
     "output_type": "execute_result"
    }
   ],
   "source": [
    "train_data.describe()"
   ]
  },
  {
   "cell_type": "code",
   "execution_count": 8,
   "metadata": {
    "ExecuteTime": {
     "end_time": "2018-11-25T21:28:32.753541Z",
     "start_time": "2018-11-25T21:28:32.728249Z"
    }
   },
   "outputs": [
    {
     "name": "stdout",
     "output_type": "stream",
     "text": [
      "You, sir, are my hero. Any chance you remember what page that's on?\n",
      "\"\n",
      "\n",
      "Congratulations from me as well, use the tools well.  · talk \"\n",
      "COCKSUCKER BEFORE YOU PISS AROUND ON MY WORK\n",
      "Your vandalism to the Matt Shirvington article has been reverted.  Please don't do it again, or you will be banned.\n",
      "Sorry if the word 'nonsense' was offensive to you. Anyway, I'm not intending to write anything in the article(wow they would jump on me for vandalism), I'm merely requesting that it be more encyclopedic so one can use it for school as a reference. I have been to the selective breeding page but it's almost a stub. It points to 'animal breeding' which is a short messy article that gives you no info. There must be someone around with expertise in eugenics? 93.161.107.169\n",
      "alignment on this subject and which are contrary to those of DuLithgow\n",
      "\"\n",
      "Fair use rationale for Image:Wonju.jpg\n",
      "\n",
      "Thanks for uploading Image:Wonju.jpg. I notice the image page specifies that the image is being used under fair use but there is no explanation or rationale as to why its use in Wikipedia articles constitutes fair use. In addition to the boilerplate fair use template, you must also write out on the image description page a specific explanation or rationale for why using this image in each article is consistent with fair use.\n",
      "\n",
      "Please go to the image description page and edit it to include a fair use rationale.\n",
      "\n",
      "If you have uploaded other fair use media, consider checking that you have specified the fair use rationale on those pages too. You can find a list of 'image' pages you have edited by clicking on the \"\"my contributions\"\" link (it is located at the very top of any Wikipedia page when you are logged in), and then selecting \"\"Image\"\" from the dropdown box. Note that any fair use images uploaded after 4 May, 2006, and lacking such an explanation will be deleted one week after they have been uploaded, as described on criteria for speedy deletion. If you have any questions please ask them at the Media copyright questions page. Thank you. (talk • contribs • ) \n",
      "Unspecified source for Image:Wonju.jpg\n",
      "\n",
      "Thanks for uploading Image:Wonju.jpg. I noticed that the file's description page currently doesn't specify who created the content, so the copyright status is unclear. If you did not create this file yourself, then you will need to specify the owner of the copyright. If you obtained it from a website, then a link to the website from which it was taken, together with a restatement of that website's terms of use of its content, is usually sufficient information. However, if the copyright holder is different from the website's publisher, then their copyright should also be acknowledged.\n",
      "\n",
      "As well as adding the source, please add a proper copyright licensing tag if the file doesn't have one already. If you created/took the picture, audio, or video then the  tag can be used to release it under the GFDL. If you believe the media meets the criteria at Wikipedia:Fair use, use a tag such as  or one of the other tags listed at Wikipedia:Image copyright tags#Fair use. See Wikipedia:Image copyright tags for the full list of copyright tags that you can use.\n",
      "\n",
      "If you have uploaded other files, consider checking that you have specified their source and tagged them, too. You can find a list of files you have uploaded by following [ this link]. Unsourced and untagged images may be deleted one week after they have been tagged, as described on criteria for speedy deletion. If the image is copyrighted under a non-free license (per Wikipedia:Fair use) then the image will be deleted 48 hours after . If you have any questions please ask them at the Media copyright questions page. Thank you. (talk • contribs • ) \"\n",
      "bbq \n",
      "\n",
      "be a man and lets discuss it-maybe over the phone?\n",
      "Hey... what is it..\n",
      "@ | talk .\n",
      "What is it... an exclusive group of some WP TALIBANS...who are good at destroying, self-appointed purist who GANG UP any one who asks them questions abt their ANTI-SOCIAL and DESTRUCTIVE (non)-contribution at WP?\n",
      "\n",
      "Ask Sityush to clean up his behavior than issue me nonsensical warnings...\n",
      "Before you start throwing accusations and warnings at me, lets review the edit itself-making ad hominem attacks isn't going to strengthen your argument, it will merely make it look like you are abusing your power as an admin. \n",
      "Now, the edit itself is relevant-this is probably the single most talked about event int he news as of late. His absence is notable, since he is the only living ex-president who did not attend. That's certainly more notable than his dedicating an aircracft carrier. \n",
      "I intend to revert this edit, in hopes of attracting the attention of an admin that is willing to look at the issue itself, and not throw accusations around quite so liberally. Perhaps, if you achieve a level of civility where you can do this, we can have a rational discussion on the topic and resolve the matter peacefully.\n",
      "Oh, and the girl above started her arguments with me. She stuck her nose where it doesn't belong. I believe the argument was between me and Yvesnimmo. But like I said, the situation was settled and I apologized. Thanks,\n"
     ]
    }
   ],
   "source": [
    "for index in range(4, 15):\n",
    "    print(train_data['comment_text'][index])"
   ]
  },
  {
   "cell_type": "markdown",
   "metadata": {},
   "source": [
    "We can see the spaces,blank lines and some other special characters in the comment text, if we look into training data its largly blank lines and spaces. Will be removing these as part of data cleaning."
   ]
  },
  {
   "cell_type": "code",
   "execution_count": 9,
   "metadata": {
    "ExecuteTime": {
     "end_time": "2018-11-25T21:28:32.764309Z",
     "start_time": "2018-11-25T21:28:32.756415Z"
    }
   },
   "outputs": [
    {
     "data": {
      "text/plain": [
       "['toxic', 'severe_toxic', 'obscene', 'threat', 'insult', 'identity_hate']"
      ]
     },
     "execution_count": 9,
     "metadata": {},
     "output_type": "execute_result"
    }
   ],
   "source": [
    "# Global variables\n",
    "LABELS = list(train_data.columns)  # getting all columns\n",
    "CLASS_LABELS = LABELS[2:]  # selecting only classes\n",
    "CLASS_LABELS"
   ]
  },
  {
   "cell_type": "markdown",
   "metadata": {},
   "source": [
    "\n",
    "The training data set is multi-labeled, which means each comment is labeled with one or more classes. So, it is better to have an idea about the number of comments fall in each classes.\n",
    "\n"
   ]
  },
  {
   "cell_type": "code",
   "execution_count": 62,
   "metadata": {
    "ExecuteTime": {
     "end_time": "2018-11-25T22:35:01.867443Z",
     "start_time": "2018-11-25T22:35:01.557818Z"
    }
   },
   "outputs": [
    {
     "name": "stdout",
     "output_type": "stream",
     "text": [
      "toxic            15294\n",
      "severe_toxic      1595\n",
      "obscene           8449\n",
      "threat             478\n",
      "insult            7877\n",
      "identity_hate     1405\n",
      "dtype: int64\n"
     ]
    },
    {
     "data": {
      "text/plain": [
       "<matplotlib.axes._subplots.AxesSubplot at 0x1a4d3818d0>"
      ]
     },
     "execution_count": 62,
     "metadata": {},
     "output_type": "execute_result"
    },
    {
     "data": {
      "image/png": "[encoded data removed]",
      "text/plain": [
       "<Figure size 576x432 with 1 Axes>"
      ]
     },
     "metadata": {
      "needs_background": "light"
     },
     "output_type": "display_data"
    }
   ],
   "source": [
    "train_class_count = train_data[CLASS_LABELS].sum()\n",
    "print(train_class_count)\n",
    "train_class_count.plot.barh(figsize=(8, 6))\n"
   ]
  },
  {
   "cell_type": "code",
   "execution_count": 72,
   "metadata": {
    "ExecuteTime": {
     "end_time": "2018-11-25T22:43:41.964648Z",
     "start_time": "2018-11-25T22:43:41.801465Z"
    }
   },
   "outputs": [
    {
     "data": {
      "image/png": "[encoded data removed]",
      "text/plain": [
       "<Figure size 864x576 with 1 Axes>"
      ]
     },
     "metadata": {},
     "output_type": "display_data"
    }
   ],
   "source": [
    "plt.figure(1, figsize=(12,8))\n",
    "temp = np.asarray(train_class_count)\n",
    "colors = ['pink', 'gold', 'lightskyblue','red','lightgreen','orange']\n",
    "plt.pie(temp, labels=CLASS_LABELS, colors=colors,autopct=lambda x: np.round(x/100.*temp.sum(), 0))\n",
    "plt.axis('equal')\n",
    "plt.title(\"Label Count\", fontdict={'fontsize':25})\n",
    "\n",
    "plt.show()"
   ]
  },
  {
   "cell_type": "markdown",
   "metadata": {},
   "source": [
    "So, there are comments which has no labels. Also, there are comments which have more than one labels. Now, it's time to look at each comment text in the data set."
   ]
  },
  {
   "cell_type": "code",
   "execution_count": 12,
   "metadata": {
    "ExecuteTime": {
     "end_time": "2018-11-25T21:28:33.471349Z",
     "start_time": "2018-11-25T21:28:33.129773Z"
    }
   },
   "outputs": [
    {
     "name": "stdout",
     "output_type": "stream",
     "text": [
      "Total number of characters -  62882658\n",
      "Longest comment length -  5000\n",
      "Shortest comment length -  6\n"
     ]
    },
    {
     "data": {
      "text/plain": [
       "<matplotlib.axes._subplots.AxesSubplot at 0x1a1abfa7b8>"
      ]
     },
     "execution_count": 12,
     "metadata": {},
     "output_type": "execute_result"
    },
    {
     "data": {
      "image/png": "[encoded data removed]",
      "text/plain": [
       "<Figure size 576x432 with 1 Axes>"
      ]
     },
     "metadata": {
      "needs_background": "light"
     },
     "output_type": "display_data"
    }
   ],
   "source": [
    "train_tmp_df = train_data\n",
    "train_tmp_df['comment_length'] = train_tmp_df['comment_text'].apply(\n",
    "    lambda y: len(str(y)))\n",
    "print(\"Total number of characters - \", train_tmp_df['comment_length'].sum())\n",
    "print(\"Longest comment length - \", train_tmp_df['comment_length'].max())\n",
    "print(\"Shortest comment length - \", train_tmp_df['comment_length'].min())\n",
    "\n",
    "train_tmp_df['comment_length'].hist(color='#258ffc', figsize=(8, 6))"
   ]
  },
  {
   "cell_type": "markdown",
   "metadata": {},
   "source": [
    "To compare the train data and test data with respect to the length of comment and its distribution, will perform similar operations on test data set."
   ]
  },
  {
   "cell_type": "code",
   "execution_count": 13,
   "metadata": {
    "ExecuteTime": {
     "end_time": "2018-11-25T21:28:33.798389Z",
     "start_time": "2018-11-25T21:28:33.474663Z"
    }
   },
   "outputs": [
    {
     "name": "stdout",
     "output_type": "stream",
     "text": [
      "Total number of characters -  55885733\n",
      "Longest comment length -  5000\n",
      "Shortest comment length -  1\n"
     ]
    },
    {
     "data": {
      "text/plain": [
       "<matplotlib.axes._subplots.AxesSubplot at 0x1a1b3dd6a0>"
      ]
     },
     "execution_count": 13,
     "metadata": {},
     "output_type": "execute_result"
    },
    {
     "data": {
      "image/png": "[encoded data removed]",
      "text/plain": [
       "<Figure size 576x432 with 1 Axes>"
      ]
     },
     "metadata": {
      "needs_background": "light"
     },
     "output_type": "display_data"
    }
   ],
   "source": [
    "test_tmp_df = test_data\n",
    "test_tmp_df['comment_length'] = test_tmp_df['comment_text'].apply(\n",
    "    lambda t: len(str(t)))\n",
    "print(\"Total number of characters - \", test_tmp_df['comment_length'].sum())\n",
    "print(\"Longest comment length - \", test_tmp_df['comment_length'].max())\n",
    "print(\"Shortest comment length - \", test_tmp_df['comment_length'].min())\n",
    "\n",
    "test_tmp_df['comment_length'].hist(color='red', figsize=(8, 6))"
   ]
  },
  {
   "cell_type": "markdown",
   "metadata": {},
   "source": [
    "Now, the shape of comment and its length distribution looks similar between the training data and the train data. Next step is clean the data."
   ]
  },
  {
   "cell_type": "markdown",
   "metadata": {},
   "source": [
    "### 2. Cleaning the train and test data"
   ]
  },
  {
   "cell_type": "code",
   "execution_count": 14,
   "metadata": {
    "ExecuteTime": {
     "end_time": "2018-11-25T21:28:33.817300Z",
     "start_time": "2018-11-25T21:28:33.801983Z"
    },
    "code_folding": [
     9,
     25,
     66,
     80,
     111
    ]
   },
   "outputs": [],
   "source": [
    "class CleanData:\n",
    "    \"\"\"\n",
    "    Utiliy class to clean the data. provides instance and static methods \n",
    "    for cleaning the train/test data\n",
    "\n",
    "    Args:\n",
    "    data_set : data set to be cleaned. \n",
    "    \"\"\"\n",
    "\n",
    "    def __init__(self, data_set):\n",
    "        self.data_set = data_set\n",
    "\n",
    "    def fill_null(self):\n",
    "        \"\"\"\n",
    "        Method to fill all the null values in the data set\n",
    "\n",
    "        Args:\n",
    "\n",
    "        Returns:\n",
    "        data_set : data set with non null values\n",
    "\n",
    "        \"\"\"\n",
    "        self.data_set.fillna(' ')\n",
    "        return self.data_set\n",
    "\n",
    "    def clean_text(self, field):\n",
    "        \"\"\"\n",
    "        Method to clean the text data. \n",
    "\n",
    "        Args:\n",
    "        field : class label in the data set\n",
    "\n",
    "        Returns:\n",
    "        data_set : cleaned data set\n",
    "\n",
    "        \"\"\"\n",
    "        self.data_set[field] = self.data_set[field].str.replace(r\"http\\S+\", \"\")\n",
    "        self.data_set[field] = self.data_set[field].str.replace(r\"http\", \"\")\n",
    "        self.data_set[field] = self.data_set[field].str.replace(r\"@\\S+\", \"\")\n",
    "        self.data_set[field] = self.data_set[field].str.replace(\n",
    "            r\"[^A-Za-z0-9(),!?@\\'\\`\\\"\\_\\n]\", \" \")\n",
    "        self.data_set[field] = self.data_set[field].str.replace(r\"@\", \"at\")\n",
    "        self.data_set[field] = self.data_set[field].str.replace(\n",
    "            r\"what's\", \"what is\")\n",
    "        self.data_set[field] = self.data_set[field].str.replace(\n",
    "            r\"\\'ve\", \" have\")\n",
    "        self.data_set[field] = self.data_set[field].str.replace(\n",
    "            r\"can't\", \"can not\")\n",
    "        self.data_set[field] = self.data_set[field].str.replace(\n",
    "            r\"don't\", \"do not\")\n",
    "        self.data_set[field] = self.data_set[field].str.replace(\n",
    "            r\"weren't\", \"were not\")\n",
    "        self.data_set[field] = self.data_set[field].str.replace(\n",
    "            r\"doesn't\", \"does not\")\n",
    "        self.data_set[field] = self.data_set[field].str.replace(\n",
    "            r\"i'm\", \"i am \")\n",
    "        self.data_set[field] = self.data_set[field].str.replace(\n",
    "            r\"\\'re\", \" are \")\n",
    "        self.data_set[field] = self.data_set[field].str.replace(\n",
    "            r\"\\'d\", \" would \")\n",
    "        self.data_set[field] = self.data_set[field].str.replace(r\"\\'s\", \" \")\n",
    "        self.data_set[field] = self.data_set[field].str.replace(r\"\\W\", \" \")\n",
    "        self.data_set[field] = self.data_set[field].str.replace(r\"\\s+\", \" \")\n",
    "        self.data_set[field] = self.data_set[field].str.lower()\n",
    "        return self.data_set\n",
    "\n",
    "    def remove_stop_words(self, field):\n",
    "        \"\"\"\n",
    "        Method to remove the stopwords from the text.\n",
    "\n",
    "        Args:\n",
    "        field: class label in the dataset\n",
    "\n",
    "        Returns:\n",
    "        data_set : data set without stopwords.\n",
    "        \"\"\"\n",
    "        self.data_set[field].apply(lambda x: ' '.join(\n",
    "            [word for word in x.split() if word not in stopwords.words('english')]))\n",
    "        return self.data_set\n",
    "\n",
    "    def get_text(self, field):\n",
    "        \"\"\"\n",
    "        Utility method to get particular column from data set\n",
    "\n",
    "        Args:\n",
    "        field : name of the required field\n",
    "\n",
    "        Returns:\n",
    "        data_set : returns the text of metioned field\n",
    "        \"\"\"\n",
    "\n",
    "        return self.data_set[field]\n",
    "\n",
    "    @staticmethod\n",
    "    def get_all_text(data_set_one, data_set_two, field):\n",
    "        \"\"\"\n",
    "        Static method to combine a particular column of two data sets.\n",
    "\n",
    "        Args:\n",
    "        data_set_one : data frame \n",
    "        data_set_two : data frame\n",
    "        field : column name \n",
    "\n",
    "        Returns:\n",
    "        data_set : new data set\n",
    "\n",
    "        \"\"\"\n",
    "        data_set = pd.concat([data_set_one[field], data_set_two[field]])\n",
    "        return data_set\n",
    "\n",
    "    @staticmethod\n",
    "    def get_all_text(data_set_one, data_set_two):\n",
    "        \"\"\"\n",
    "        Static method to combine two data sets.\n",
    "\n",
    "        Args:\n",
    "        data_set_one : first data set of type data frame\n",
    "        data_set_two : second data set of type \n",
    "\n",
    "        Returns:\n",
    "        data_set_merged : new combined data set\n",
    "        \"\"\"\n",
    "        data_set_merged = pd.concat([data_set_one, data_set_two])\n",
    "        return data_set_merged"
   ]
  },
  {
   "cell_type": "markdown",
   "metadata": {},
   "source": [
    "The above class CleanData provides couple of methods to perform the data cleaning both on train and test data.CleanData class also defined some static methods to combine the data sets."
   ]
  },
  {
   "cell_type": "markdown",
   "metadata": {},
   "source": [
    "Cleaning the train and test data"
   ]
  },
  {
   "cell_type": "code",
   "execution_count": 15,
   "metadata": {
    "ExecuteTime": {
     "end_time": "2018-11-25T21:28:33.968392Z",
     "start_time": "2018-11-25T21:28:33.821287Z"
    }
   },
   "outputs": [],
   "source": [
    "clean_train_data = CleanData(train_data)\n",
    "train_text = clean_train_data.fill_null()\n",
    "train_text = clean_train_data.get_text('comment_text')"
   ]
  },
  {
   "cell_type": "code",
   "execution_count": 16,
   "metadata": {
    "ExecuteTime": {
     "end_time": "2018-11-25T21:28:33.979201Z",
     "start_time": "2018-11-25T21:28:33.971691Z"
    }
   },
   "outputs": [
    {
     "data": {
      "text/plain": [
       "((159571,), pandas.core.series.Series)"
      ]
     },
     "execution_count": 16,
     "metadata": {},
     "output_type": "execute_result"
    }
   ],
   "source": [
    "train_text.shape, type(train_text)"
   ]
  },
  {
   "cell_type": "code",
   "execution_count": 17,
   "metadata": {
    "ExecuteTime": {
     "end_time": "2018-11-25T21:28:33.992856Z",
     "start_time": "2018-11-25T21:28:33.983236Z"
    }
   },
   "outputs": [
    {
     "data": {
      "text/plain": [
       "0    Explanation\\nWhy the edits made under my usern...\n",
       "1    D'aww! He matches this background colour I'm s...\n",
       "2    Hey man, I'm really not trying to edit war. It...\n",
       "3    \"\\nMore\\nI can't make any real suggestions on ...\n",
       "4    You, sir, are my hero. Any chance you remember...\n",
       "Name: comment_text, dtype: object"
      ]
     },
     "execution_count": 17,
     "metadata": {},
     "output_type": "execute_result"
    }
   ],
   "source": [
    "train_text.head()"
   ]
  },
  {
   "cell_type": "code",
   "execution_count": 18,
   "metadata": {
    "ExecuteTime": {
     "end_time": "2018-11-25T21:28:34.079321Z",
     "start_time": "2018-11-25T21:28:33.997293Z"
    }
   },
   "outputs": [],
   "source": [
    "clean_test_data = CleanData(test_data)\n",
    "test_text = clean_test_data.fill_null()\n",
    "test_text = clean_test_data.get_text('comment_text')"
   ]
  },
  {
   "cell_type": "code",
   "execution_count": 19,
   "metadata": {
    "ExecuteTime": {
     "end_time": "2018-11-25T21:28:34.090046Z",
     "start_time": "2018-11-25T21:28:34.082509Z"
    }
   },
   "outputs": [
    {
     "data": {
      "text/plain": [
       "((153164,), pandas.core.series.Series)"
      ]
     },
     "execution_count": 19,
     "metadata": {},
     "output_type": "execute_result"
    }
   ],
   "source": [
    "test_text.shape, type(test_text)"
   ]
  },
  {
   "cell_type": "code",
   "execution_count": 20,
   "metadata": {
    "ExecuteTime": {
     "end_time": "2018-11-25T21:28:34.108049Z",
     "start_time": "2018-11-25T21:28:34.094115Z"
    }
   },
   "outputs": [
    {
     "data": {
      "text/plain": [
       "0    Yo bitch Ja Rule is more succesful then you'll...\n",
       "1    == From RfC == \\n\\n The title is fine as it is...\n",
       "2    \" \\n\\n == Sources == \\n\\n * Zawe Ashton on Lap...\n",
       "3    :If you have a look back at the source, the in...\n",
       "4            I don't anonymously edit articles at all.\n",
       "Name: comment_text, dtype: object"
      ]
     },
     "execution_count": 20,
     "metadata": {},
     "output_type": "execute_result"
    }
   ],
   "source": [
    "test_text.head()"
   ]
  },
  {
   "cell_type": "code",
   "execution_count": 21,
   "metadata": {
    "ExecuteTime": {
     "end_time": "2018-11-25T21:28:34.141326Z",
     "start_time": "2018-11-25T21:28:34.111651Z"
    }
   },
   "outputs": [],
   "source": [
    "full_text = CleanData.get_all_text(\n",
    "    data_set_one=train_text, data_set_two=test_text)"
   ]
  },
  {
   "cell_type": "markdown",
   "metadata": {},
   "source": [
    "### 3. Feature Implementation, Build and Train Model"
   ]
  },
  {
   "cell_type": "code",
   "execution_count": 22,
   "metadata": {
    "ExecuteTime": {
     "end_time": "2018-11-25T21:28:34.151059Z",
     "start_time": "2018-11-25T21:28:34.144085Z"
    },
    "code_folding": [
     9
    ]
   },
   "outputs": [],
   "source": [
    "class WordVectorizer:\n",
    "    \"\"\"\n",
    "    WordVectorizer class provides methods to perform vectorization for words\n",
    "\n",
    "    Args:\n",
    "    data_set : input data set\n",
    "\n",
    "    \"\"\"\n",
    "\n",
    "    def __init__(self, data_set):\n",
    "        self.data_set = data_set\n",
    "\n",
    "    def word_vector(self, ngram_value=1):\n",
    "        \"\"\"\n",
    "\n",
    "        word_vector method generates the Tfidf vector for the data set. \n",
    "        It accepts an optinal parameter to specify the ngram value.\n",
    "\n",
    "        Args:\n",
    "        ngram_value : n gram value, default:1.\n",
    "\n",
    "        Returns:\n",
    "        word_vec : Tfidf vector.\n",
    "\n",
    "        \"\"\"\n",
    "        word_vec = TfidfVectorizer(sublinear_tf=True, strip_accents='unicode',\n",
    "                                   analyzer='word', token_pattern=r'\\w{1,}',\n",
    "                                   stop_words='english', ngram_range=(1, ngram_value),\n",
    "                                   max_features=10000)\n",
    "        word_vec.fit(self.data_set)\n",
    "        return word_vec"
   ]
  },
  {
   "cell_type": "markdown",
   "metadata": {},
   "source": [
    "Above class provides method to get the trem documents for words. Also, implemented ngram feature before Tfidf vectorization. We can dynamically specify the ngram feature to its method."
   ]
  },
  {
   "cell_type": "code",
   "execution_count": 23,
   "metadata": {
    "ExecuteTime": {
     "end_time": "2018-11-25T21:28:34.160522Z",
     "start_time": "2018-11-25T21:28:34.155008Z"
    }
   },
   "outputs": [],
   "source": [
    "class CharVectorizer:\n",
    "    \"\"\"\n",
    "    CharVectorizer class provides methods to perform character level ngram and Tfidf.\n",
    "\n",
    "    Args:\n",
    "    data_set : input data set\n",
    "\n",
    "    \"\"\"\n",
    "\n",
    "    def __init__(self, data_set):\n",
    "        self.data_set = data_set\n",
    "\n",
    "    def char_vector(self):\n",
    "        \"\"\"\n",
    "        char_vector method generates the Tfidf vector for the data set. \n",
    "\n",
    "        Returns:\n",
    "        char_vec : Tfidf vector.\n",
    "\n",
    "        \"\"\"\n",
    "\n",
    "        char_vec = TfidfVectorizer(sublinear_tf=True, strip_accents='unicode',\n",
    "                                   analyzer='char', stop_words='english',\n",
    "                                   ngram_range=(4, 6), max_features=50000)\n",
    "        char_vec.fit(self.data_set)\n",
    "        return char_vec"
   ]
  },
  {
   "cell_type": "markdown",
   "metadata": {},
   "source": [
    "The above class is to implement the character level n-gram and then generate the term frequency vector. This help to find out the hidden toxic characters or group of characters which are usually found within a word. "
   ]
  },
  {
   "cell_type": "code",
   "execution_count": 24,
   "metadata": {
    "ExecuteTime": {
     "end_time": "2018-11-25T21:28:46.999424Z",
     "start_time": "2018-11-25T21:28:34.165013Z"
    }
   },
   "outputs": [],
   "source": [
    "# word_vectorizer = WordVectorizer(full_text)\n",
    "word_vectorizer = WordVectorizer(train_text)\n",
    "word_vec = word_vectorizer.word_vector()"
   ]
  },
  {
   "cell_type": "code",
   "execution_count": 25,
   "metadata": {
    "ExecuteTime": {
     "end_time": "2018-11-25T21:28:58.663290Z",
     "start_time": "2018-11-25T21:28:47.002067Z"
    }
   },
   "outputs": [],
   "source": [
    "train_word_features = word_vec.transform(train_text)"
   ]
  },
  {
   "cell_type": "code",
   "execution_count": 26,
   "metadata": {
    "ExecuteTime": {
     "end_time": "2018-11-25T21:29:11.483021Z",
     "start_time": "2018-11-25T21:28:58.672432Z"
    }
   },
   "outputs": [],
   "source": [
    "test_word_features = word_vec.transform(test_text)"
   ]
  },
  {
   "cell_type": "code",
   "execution_count": 27,
   "metadata": {
    "ExecuteTime": {
     "end_time": "2018-11-25T21:39:31.339241Z",
     "start_time": "2018-11-25T21:29:11.485981Z"
    }
   },
   "outputs": [],
   "source": [
    "# char_vectorizer = CharVectorizer(full_text)\n",
    "char_vectorizer = CharVectorizer(train_text)\n",
    "char_vec = char_vectorizer.char_vector()\n",
    "train_char_features = char_vec.transform(train_text)\n",
    "test_char_features = char_vec.transform(test_text)"
   ]
  },
  {
   "cell_type": "code",
   "execution_count": 28,
   "metadata": {
    "ExecuteTime": {
     "end_time": "2018-11-25T21:39:44.355464Z",
     "start_time": "2018-11-25T21:39:31.377271Z"
    }
   },
   "outputs": [
    {
     "data": {
      "text/plain": [
       "(pandas.core.frame.DataFrame, scipy.sparse.coo.coo_matrix)"
      ]
     },
     "execution_count": 28,
     "metadata": {},
     "output_type": "execute_result"
    }
   ],
   "source": [
    "train_target = CleanData(train_data).fill_null()\n",
    "train_features = hstack([train_char_features, train_word_features])\n",
    "type(train_target), type(train_features)"
   ]
  },
  {
   "cell_type": "code",
   "execution_count": 29,
   "metadata": {
    "ExecuteTime": {
     "end_time": "2018-11-25T21:39:44.402855Z",
     "start_time": "2018-11-25T21:39:44.368605Z"
    }
   },
   "outputs": [
    {
     "data": {
      "text/plain": [
       "((159571, 9), (159571, 60000), (159571, 50000))"
      ]
     },
     "execution_count": 29,
     "metadata": {},
     "output_type": "execute_result"
    }
   ],
   "source": [
    "train_target.shape, train_features.shape,train_char_features.shape"
   ]
  },
  {
   "cell_type": "markdown",
   "metadata": {},
   "source": [
    "Combining both the word features and character level fetures for both train and test data."
   ]
  },
  {
   "cell_type": "code",
   "execution_count": 30,
   "metadata": {
    "ExecuteTime": {
     "end_time": "2018-11-25T21:40:09.848104Z",
     "start_time": "2018-11-25T21:39:44.411481Z"
    }
   },
   "outputs": [
    {
     "data": {
      "text/plain": [
       "(159571, 60000)"
      ]
     },
     "execution_count": 30,
     "metadata": {},
     "output_type": "execute_result"
    }
   ],
   "source": [
    "# combine both char level features and word level features\n",
    "train_features = hstack([train_char_features, train_word_features])\n",
    "test_features = hstack([test_char_features, test_word_features])\n",
    "train_features.shape"
   ]
  },
  {
   "cell_type": "markdown",
   "metadata": {},
   "source": [
    "Defining the classifier Logistic Regression with Naive Bayes features."
   ]
  },
  {
   "cell_type": "code",
   "execution_count": 31,
   "metadata": {
    "ExecuteTime": {
     "end_time": "2018-11-25T21:40:10.018432Z",
     "start_time": "2018-11-25T21:40:09.871659Z"
    }
   },
   "outputs": [],
   "source": [
    "class NbLogRegClassifier(BaseEstimator, ClassifierMixin):\n",
    "\n",
    "    \"\"\"\n",
    "    The Logistic Regression classifier makes use of basic Naive Bayes feature.\n",
    "    The classifier inherits from BaseEstimator and ClassifierMixin sklearn's base package.\n",
    "\n",
    "    Args:\n",
    "    C :  Inverse of regularization strength; must be a positive float. \n",
    "        Like in support vector machines, smaller values specify stronger regularization.\n",
    "        default: 1.0\n",
    "    solver : Algorithm to use in the optimization problem.\n",
    "            default: 'sag'\n",
    "            prefered for multiclass problem - 'newton-cg’, ‘sag’, ‘saga’ or ‘lbfgs'\n",
    "    n_jobs : Number of CPU cores used when parallelizing over classes if multi_class=’ovr’”.\n",
    "            default: -1 (using all processors)\n",
    "    max_iter : Maximum number of iterations taken for the solvers to converge.\n",
    "            default: 4000\n",
    "    dual: Dual or primal formulation. Dual formulation is only implemented for l2 penalty with liblinear solver. \n",
    "          Prefer dual=False when n_samples > n_features.\n",
    "          default: False\n",
    "\n",
    "    \"\"\"\n",
    "\n",
    "    def __init__(self, C=4, dual=False, n_jobs=-1, solver='sag', max_iter=4000):\n",
    "        self.C = C\n",
    "        self.dual = dual\n",
    "        self.n_jobs = n_jobs\n",
    "        self.max_iter = max_iter\n",
    "        self.solver = solver\n",
    "\n",
    "    def predict(self, X):\n",
    "        \"\"\"\n",
    "\n",
    "        Predict class labels for samples in X.\n",
    "\n",
    "        Args:\n",
    "        X : array_like or sparse matrix, shape (n_samples, n_features)\n",
    "\n",
    "        Returns:\n",
    "\n",
    "        C : array, shape [n_samples]\n",
    "            Predicted class label per sample.\n",
    "\n",
    "        \"\"\"\n",
    "        check_is_fitted(self, ['_r', '_clf'])\n",
    "        return self._clf.predict(X.multiply(self._r))\n",
    "\n",
    "    def predict_proba(self, X):\n",
    "        \"\"\"\n",
    "\n",
    "        Probability estimates.\n",
    "\n",
    "        The returned estimates for all classes are ordered by the\n",
    "        label of classes.\n",
    "\n",
    "        Args:\n",
    "        X : array-like, shape = [n_samples, n_features]\n",
    "\n",
    "        Returns:\n",
    "        T : \n",
    "\n",
    "        \"\"\"\n",
    "\n",
    "        check_is_fitted(self, ['_r', '_clf'])\n",
    "        return self._clf.predict_proba(X.multiply(self._r))\n",
    "\n",
    "    def fit(self, X, y):\n",
    "        \"\"\"\n",
    "\n",
    "        Fit the model according to the given training data.\n",
    "\n",
    "        Args:\n",
    "        X : {array-like, sparse matrix}, shape (n_samples, n_features)\n",
    "            Training vector, where n_samples is the number of samples and n_features is the number of features.\n",
    "        y : array-like, shape (n_samples,) or (n_samples, n_targets)\n",
    "            Target vector relative to X.\n",
    "        sample_weight : array-like, shape (n_samples,) optional\n",
    "                        Array of weights that are assigned to individual samples. \n",
    "                        If not provided, then each sample is given unit weight.\n",
    "\n",
    "        Returns:\n",
    "        self : object\n",
    "\n",
    "        \"\"\"\n",
    "\n",
    "        y = y.values\n",
    "        X, y = check_X_y(X, y, accept_sparse=True)\n",
    "\n",
    "        def pr(X, y_i, y):\n",
    "            \"\"\"\n",
    "            Method to implement the basic Naive Bayes feature\n",
    "            \"\"\"\n",
    "            p = X[y == y_i].sum(0)\n",
    "            return (p+1) / ((y == y_i).sum()+1)\n",
    "\n",
    "        self._r = sparse.csr_matrix(np.log(pr(X, 1, y) / pr(X, 0, y)))\n",
    "        x_nb = X.multiply(self._r)\n",
    "        self._clf = LogisticRegression(\n",
    "            C=self.C, dual=self.dual, n_jobs=self.n_jobs).fit(x_nb, y)\n",
    "        return self"
   ]
  },
  {
   "cell_type": "markdown",
   "metadata": {},
   "source": [
    "A miscellanious utility class."
   ]
  },
  {
   "cell_type": "code",
   "execution_count": 32,
   "metadata": {
    "ExecuteTime": {
     "end_time": "2018-11-25T21:40:10.066978Z",
     "start_time": "2018-11-25T21:40:10.029981Z"
    }
   },
   "outputs": [],
   "source": [
    "class Utility:\n",
    "\n",
    "    \"\"\"\n",
    "    The utility class which provides static methods to perform some miscellanious operations.\n",
    "    \"\"\"\n",
    "\n",
    "    @staticmethod\n",
    "    def compare_models(md1_acc, md1_name, md2_acc, md2_name, title=None):\n",
    "        \"\"\"\n",
    "        Static method takes the accuracy/cv score of two models and generate comparision graph\n",
    "\n",
    "        Args:\n",
    "        md1_acc : Accuracy score/ CV score of model 1, preferred- pandas Series\n",
    "        md1_name : Name for the first model\n",
    "        md2_acc : Accuracy score/ CV score of model 1, preferred- pandas Series\n",
    "        md2_name : Name for the first model\n",
    "        title : (optional) Title for the comparision.\n",
    "\n",
    "        Returns: my_plot of type matplotlib's pyplot.\n",
    "        \"\"\"\n",
    "\n",
    "        md1_acc = md1_acc.mul(100, axis=0)\n",
    "        md2_acc = md2_acc.mul(100, axis=0)\n",
    "        df = pd.DataFrame(md1_acc, columns=[md1_name])\n",
    "        df[md2_name] = md2_acc\n",
    "        my_plot = df.plot(kind='bar', figsize=(12, 10),\n",
    "                          legend=True, grid=True, title=title, stacked=False)\n",
    "        my_plot.set_xlabel(\"Classes\")\n",
    "        my_plot.set_ylabel(\"Accuracy\")\n",
    "        return my_plot"
   ]
  },
  {
   "cell_type": "markdown",
   "metadata": {},
   "source": [
    "### 4. Validating the Model"
   ]
  },
  {
   "cell_type": "markdown",
   "metadata": {},
   "source": [
    "Will train and validate the model."
   ]
  },
  {
   "cell_type": "markdown",
   "metadata": {},
   "source": [
    "Naive Bayes"
   ]
  },
  {
   "cell_type": "code",
   "execution_count": 33,
   "metadata": {
    "ExecuteTime": {
     "end_time": "2018-11-25T21:42:39.961343Z",
     "start_time": "2018-11-25T21:40:10.076885Z"
    }
   },
   "outputs": [
    {
     "name": "stdout",
     "output_type": "stream",
     "text": [
      "CV score using Naive Bayes - 0.951504285370503\n"
     ]
    }
   ],
   "source": [
    "nb_accuracy = {}\n",
    "for label in CLASS_LABELS:\n",
    "    train_target = CleanData(train_data).fill_null()\n",
    "    train_target = train_target[label]\n",
    "    nb = MultinomialNB()\n",
    "\n",
    "    cv_score = np.mean(cross_val_score(nb, train_features,\n",
    "                                       train_target, cv=3, scoring='roc_auc'))\n",
    "    nb_accuracy[label] = cv_score\n",
    "\n",
    "nb_accuracy['mdl_accuracy'] = np.mean(list(nb_accuracy.values()))\n",
    "print('CV score using Naive Bayes - {}'.format(np.mean(list(nb_accuracy.values()))))\n"
   ]
  },
  {
   "cell_type": "code",
   "execution_count": 34,
   "metadata": {
    "ExecuteTime": {
     "end_time": "2018-11-25T21:42:41.041130Z",
     "start_time": "2018-11-25T21:42:39.972639Z"
    }
   },
   "outputs": [
    {
     "data": {
      "text/plain": [
       "Text(0,0.5,'Accuracy')"
      ]
     },
     "execution_count": 34,
     "metadata": {},
     "output_type": "execute_result"
    },
    {
     "data": {
      "image/png": "[encoded data removed]",
      "text/plain": [
       "<Figure size 720x576 with 1 Axes>"
      ]
     },
     "metadata": {
      "needs_background": "light"
     },
     "output_type": "display_data"
    }
   ],
   "source": [
    "nb_accuracy = pd.Series(nb_accuracy)\n",
    "my_plot = nb_accuracy.plot(kind='bar', figsize=(10, 8))\n",
    "my_plot.set_xlabel(\"Classes\")\n",
    "my_plot.set_ylabel(\"Accuracy\")"
   ]
  },
  {
   "cell_type": "markdown",
   "metadata": {
    "ExecuteTime": {
     "end_time": "2018-11-23T20:20:45.465124Z",
     "start_time": "2018-11-23T20:20:45.439180Z"
    }
   },
   "source": [
    "Logistic Regression with simple Naive Bayes feature"
   ]
  },
  {
   "cell_type": "code",
   "execution_count": 35,
   "metadata": {
    "ExecuteTime": {
     "end_time": "2018-11-25T22:08:40.100552Z",
     "start_time": "2018-11-25T21:42:41.045704Z"
    }
   },
   "outputs": [
    {
     "name": "stdout",
     "output_type": "stream",
     "text": [
      "CV score for NbLogReg - 0.9813156091458337\n"
     ]
    }
   ],
   "source": [
    "nb_logreg_accuracy = {}\n",
    "for label in CLASS_LABELS:\n",
    "    train_target = CleanData(train_data).fill_null()\n",
    "    train_target = train_target[label]\n",
    "    nb_logreg = NbLogRegClassifier(C=4, dual=False, n_jobs=-1, solver='sag', max_iter=2000)\n",
    "\n",
    "    cv_score = np.mean(cross_val_score(nb_logreg, train_features,\n",
    "                                       train_target, cv=3, scoring='roc_auc'))\n",
    "    nb_logreg_accuracy[label] = cv_score\n",
    "\n",
    "nb_logreg_accuracy['mdl_accuracy'] = np.mean(list(nb_logreg_accuracy.values()))\n",
    "print('CV score for NbLogReg - {}'.format(np.mean(list(nb_logreg_accuracy.values()))))\n"
   ]
  },
  {
   "cell_type": "code",
   "execution_count": 36,
   "metadata": {
    "ExecuteTime": {
     "end_time": "2018-11-25T22:08:40.959964Z",
     "start_time": "2018-11-25T22:08:40.148707Z"
    }
   },
   "outputs": [
    {
     "data": {
      "text/plain": [
       "Text(0,0.5,'Accuracy')"
      ]
     },
     "execution_count": 36,
     "metadata": {},
     "output_type": "execute_result"
    },
    {
     "data": {
      "image/png": "[encoded data removed]",
      "text/plain": [
       "<Figure size 720x576 with 1 Axes>"
      ]
     },
     "metadata": {
      "needs_background": "light"
     },
     "output_type": "display_data"
    }
   ],
   "source": [
    "nb_logreg_accuracy = pd.Series(nb_logreg_accuracy)\n",
    "my_plot = nb_logreg_accuracy.plot(kind='bar', figsize=(10, 8))\n",
    "my_plot.set_xlabel(\"Classes\")\n",
    "my_plot.set_ylabel(\"Accuracy\")"
   ]
  },
  {
   "cell_type": "markdown",
   "metadata": {},
   "source": [
    "Comparing both the models"
   ]
  },
  {
   "cell_type": "code",
   "execution_count": 37,
   "metadata": {
    "ExecuteTime": {
     "end_time": "2018-11-25T22:08:42.280548Z",
     "start_time": "2018-11-25T22:08:40.964947Z"
    }
   },
   "outputs": [
    {
     "data": {
      "text/plain": [
       "<matplotlib.axes._subplots.AxesSubplot at 0x1a4d8999b0>"
      ]
     },
     "execution_count": 37,
     "metadata": {},
     "output_type": "execute_result"
    },
    {
     "data": {
      "image/png": "[encoded data removed]",
      "text/plain": [
       "<Figure size 864x720 with 1 Axes>"
      ]
     },
     "metadata": {
      "needs_background": "light"
     },
     "output_type": "display_data"
    }
   ],
   "source": [
    "Utility.compare_models(md1_acc=nb_accuracy,md1_name=\"NB\", md2_acc=nb_logreg_accuracy, md2_name=\"NBLR\",title=\"Naive Bayes vs NB Logistic Regression\")"
   ]
  },
  {
   "cell_type": "code",
   "execution_count": null,
   "metadata": {},
   "outputs": [],
   "source": []
  }
 ],
 "metadata": {
  "kernelspec": {
   "display_name": "Python 3",
   "language": "python",
   "name": "python3"
  },
  "language_info": {
   "codemirror_mode": {
    "name": "ipython",
    "version": 3
   },
   "file_extension": ".py",
   "mimetype": "text/x-python",
   "name": "python",
   "nbconvert_exporter": "python",
   "pygments_lexer": "ipython3",
   "version": "3.6.6"
  },
  "latex_envs": {
   "LaTeX_envs_menu_present": true,
   "autoclose": false,
   "autocomplete": true,
   "bibliofile": "biblio.bib",
   "cite_by": "apalike",
   "current_citInitial": 1,
   "eqLabelWithNumbers": true,
   "eqNumInitial": 1,
   "hotkeys": {
    "equation": "Ctrl-E",
    "itemize": "Ctrl-I"
   },
   "labels_anchors": false,
   "latex_user_defs": false,
   "report_style_numbering": false,
   "user_envs_cfg": false
  },
  "varInspector": {
   "cols": {
    "lenName": 16,
    "lenType": 16,
    "lenVar": 40
   },
   "kernels_config": {
    "python": {
     "delete_cmd_postfix": "",
     "delete_cmd_prefix": "del ",
     "library": "var_list.py",
     "varRefreshCmd": "print(var_dic_list())"
    },
    "r": {
     "delete_cmd_postfix": ") ",
     "delete_cmd_prefix": "rm(",
     "library": "var_list.r",
     "varRefreshCmd": "cat(var_dic_list()) "
    }
   },
   "types_to_exclude": [
    "module",
    "function",
    "builtin_function_or_method",
    "instance",
    "_Feature"
   ],
   "window_display": false
  }
 },
 "nbformat": 4,
 "nbformat_minor": 2
}
